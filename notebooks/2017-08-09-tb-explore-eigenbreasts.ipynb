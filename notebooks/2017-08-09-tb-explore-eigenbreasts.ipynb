{
 "cells": [
  {
   "cell_type": "code",
   "execution_count": null,
   "metadata": {},
   "outputs": [],
   "source": [
    "from functools import reduce"
   ]
  },
  {
   "cell_type": "code",
   "execution_count": null,
   "metadata": {},
   "outputs": [],
   "source": [
    "import bqplot\n",
    "from IPython.display import display, Markdown\n",
    "import ipywidgets\n",
    "import matplotlib\n",
    "import numpy as np\n",
    "import pandas as pd\n",
    "import scipy.stats\n",
    "import xarray as xr"
   ]
  },
  {
   "cell_type": "code",
   "execution_count": null,
   "metadata": {},
   "outputs": [],
   "source": [
    "import plot\n",
    "import util"
   ]
  },
  {
   "cell_type": "code",
   "execution_count": null,
   "metadata": {},
   "outputs": [],
   "source": [
    "eigenbreasts = xr.open_dataset('../data/processed/mri-eigenbreasts.nc')"
   ]
  },
  {
   "cell_type": "markdown",
   "metadata": {},
   "source": [
    "## Distribution ##"
   ]
  },
  {
   "cell_type": "markdown",
   "metadata": {},
   "source": [
    "Histrograms of first PC."
   ]
  },
  {
   "cell_type": "code",
   "execution_count": null,
   "metadata": {},
   "outputs": [],
   "source": [
    "for var in eigenbreasts.data_vars:\n",
    "    plot.hist(eigenbreasts[var][0, :], title=var)"
   ]
  },
  {
   "cell_type": "markdown",
   "metadata": {},
   "source": [
    "Scatterplots of first and second PC."
   ]
  },
  {
   "cell_type": "code",
   "execution_count": null,
   "metadata": {},
   "outputs": [],
   "source": [
    "for var in eigenbreasts.data_vars:\n",
    "    with plot.subplots() as (fig, ax):\n",
    "        plot.scatter(eigenbreasts[var][0, :], eigenbreasts[var][1, :], ax=ax)\n",
    "        ax.set_title(var)"
   ]
  },
  {
   "cell_type": "markdown",
   "metadata": {},
   "source": [
    "Outliers per datsets, as defined by being outside two times the inter-quartile range."
   ]
  },
  {
   "cell_type": "code",
   "execution_count": null,
   "metadata": {},
   "outputs": [],
   "source": [
    "outliers = dict()\n",
    "for var in eigenbreasts.data_vars:\n",
    "    val = eigenbreasts[var][0, :]\n",
    "    outliers[var] = set(eigenbreasts['case'][np.abs(val - np.median(val)) > 2*scipy.stats.iqr(val.values)].values)\n",
    "all_outlier_cases = sorted(reduce(set.union, outliers.values()))\n",
    "all_vars = eigenbreasts.data_vars\n",
    "outlier_da = xr.DataArray(\n",
    "    np.array([np.isin(all_outlier_cases, list(outliers[v])) for v in all_vars]),\n",
    "    dims=['var', 'case'],\n",
    "    coords={'var': all_vars, 'case': all_outlier_cases},\n",
    ")\n",
    "with plot.subplots() as (fig, ax):\n",
    "    plot.heatmap(outlier_da, cmap='Greys', ax=ax, col_dendrogram=True, col_dist_metric='cityblock',\n",
    "                zlabel='Outlier (Outside 2*IQR)')\n",
    "    ax.set_xticklabels(ax.get_xticklabels(), rotation=90)"
   ]
  },
  {
   "cell_type": "markdown",
   "metadata": {},
   "source": [
    "## Correlation between ipsi, contra, and both ##"
   ]
  },
  {
   "cell_type": "code",
   "execution_count": null,
   "metadata": {},
   "outputs": [],
   "source": [
    "with plot.subplots(1, 3, figsize=(12, 5)) as  (fig, axs):\n",
    "    ipsi_contra_cor = util.cor(\n",
    "        eigenbreasts['contra_ds8'].isel(PC=slice(0, 50)).rename({'PC': 'PC_contra_ds8'}),\n",
    "        eigenbreasts['ipsi_ds8'].isel(PC=slice(0, 50)).rename({'PC': 'PC_ipsi_ds8'}),\n",
    "        'case',\n",
    "    )\n",
    "    plot.heatmap(np.abs(ipsi_contra_cor['correlation']), xticklabels='', yticklabels='',\n",
    "                 zlabel=\"$|\\\\rho|$\", ax=axs[0], cbar=False, zlim=(0, 1))\n",
    "    ipsi_both_cor = util.cor(\n",
    "        eigenbreasts['both_ds8'].isel(PC=slice(0, 50)).rename({'PC': 'PC_both_ds8'}),\n",
    "        eigenbreasts['ipsi_ds8'].isel(PC=slice(0, 50)).rename({'PC': 'PC_ipsi_ds8'}),\n",
    "        'case',\n",
    "    )\n",
    "    plot.heatmap(np.abs(ipsi_both_cor['correlation']), xticklabels='', yticklabels='',\n",
    "                zlabel=\"$|\\\\rho|$\", ax=axs[1], cbar=False, zlim=(0, 1))\n",
    "    contra_both_cor = util.cor(\n",
    "        eigenbreasts['both_ds8'].isel(PC=slice(0, 50)).rename({'PC': 'PC_both_ds8'}),\n",
    "        eigenbreasts['contra_ds8'].isel(PC=slice(0, 50)).rename({'PC': 'PC_contra_ds8'}),\n",
    "        'case'\n",
    "    )\n",
    "    plot.heatmap(np.abs(contra_both_cor['correlation']), xticklabels='', yticklabels='',\n",
    "                 zlabel=\"$|\\\\rho|$\", ax=axs[2], cbar=False, zlim=(0, 1))\n",
    "    fig.colorbar(axs[0].findobj(matplotlib.image.AxesImage)[0], ax=list(axs),\n",
    "                 orientation='horizontal', fraction=0.05, label=\"$|\\\\rho|$\")\n",
    "    for ax in axs:\n",
    "        ax.axis('equal', adjustable='box')\n",
    "        ax.set_aspect('equal', 'datalim')\n",
    "        ax.spines['top'].set_visible(False)\n",
    "        ax.spines['bottom'].set_visible(False)\n",
    "        ax.spines['left'].set_visible(False)\n",
    "        ax.spines['right'].set_visible(False)"
   ]
  },
  {
   "cell_type": "code",
   "execution_count": null,
   "metadata": {},
   "outputs": [],
   "source": []
  }
 ],
 "metadata": {
  "kernelspec": {
   "display_name": "Python 3",
   "language": "python",
   "name": "python3"
  },
  "language_info": {
   "codemirror_mode": {
    "name": "ipython",
    "version": 3
   },
   "file_extension": ".py",
   "mimetype": "text/x-python",
   "name": "python",
   "nbconvert_exporter": "python",
   "pygments_lexer": "ipython3",
   "version": "3.6.0"
  }
 },
 "nbformat": 4,
 "nbformat_minor": 2
}
