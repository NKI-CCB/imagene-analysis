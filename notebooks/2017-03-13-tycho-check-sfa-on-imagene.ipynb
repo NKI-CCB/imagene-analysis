{
 "cells": [
  {
   "cell_type": "code",
   "execution_count": null,
   "metadata": {},
   "outputs": [],
   "source": [
    "import h5py\n",
    "from IPython.display import display, Markdown\n",
    "import numpy as np\n",
    "import pandas as pd\n",
    "import xarray as xr"
   ]
  },
  {
   "cell_type": "code",
   "execution_count": null,
   "metadata": {},
   "outputs": [],
   "source": [
    "import plot"
   ]
  },
  {
   "cell_type": "code",
   "execution_count": null,
   "metadata": {},
   "outputs": [],
   "source": [
    "sfa = xr.open_dataset('../models/sfa.nc')\n",
    "display(sfa)"
   ]
  },
  {
   "cell_type": "code",
   "execution_count": null,
   "metadata": {},
   "outputs": [],
   "source": [
    "gexp = xr.open_dataset('../data/processed/gene-expression.nc')\n",
    "gexp = gexp.set_coords('hgnc_symbol')\n",
    "gexp = gexp['log2_cpm']\n",
    "assert(np.all(gexp['case'] == sfa['case']))\n",
    "display(gexp)"
   ]
  },
  {
   "cell_type": "markdown",
   "metadata": {},
   "source": [
    "## Overview ##"
   ]
  },
  {
   "cell_type": "code",
   "execution_count": null,
   "metadata": {},
   "outputs": [],
   "source": [
    "plot.heatmap(sfa['factors'], row_dendrogram=True, col_dendrogram=True, xticklabels='index')"
   ]
  },
  {
   "cell_type": "markdown",
   "metadata": {},
   "source": [
    "## Association with Clinical Data##"
   ]
  },
  {
   "cell_type": "code",
   "execution_count": null,
   "metadata": {},
   "outputs": [],
   "source": [
    "clin = pd.read_table('../data/raw/imagene_clinical.tsv')\n",
    "clin = clin.set_index('margins_patient')\n",
    "clin.index.name = 'case'\n",
    "clin = clin.to_xarray()\n",
    "clin = clin.loc[{'case': sfa['case']}]\n",
    "assert(np.all(clin['case'] == sfa['case']))\n",
    "display(clin)"
   ]
  },
  {
   "cell_type": "code",
   "execution_count": null,
   "metadata": {},
   "outputs": [],
   "source": [
    "plot.boxplot(clin['ihc_subtype'], -sfa['factors'][0, :])"
   ]
  },
  {
   "cell_type": "code",
   "execution_count": null,
   "metadata": {},
   "outputs": [],
   "source": [
    "plot.boxplot(clin['ihc_subtype'], gexp[:, gexp['hgnc_symbol']=='ESR1'][:, 0])"
   ]
  },
  {
   "cell_type": "markdown",
   "metadata": {},
   "source": [
    "## Comparison to factors on TCGA ##"
   ]
  },
  {
   "cell_type": "code",
   "execution_count": null,
   "metadata": {},
   "outputs": [],
   "source": [
    "with h5py.File('../data/external/tcga-breast-gexp+rppa+cn-sfa-solution.h5') as f:\n",
    "    tcga_factors = xr.DataArray(\n",
    "        data=np.array(f['factors']),\n",
    "        dims=['sample', 'factor'],\n",
    "        coords={\n",
    "            'sample': np.array([s.decode() for s in f['sample names']], 'object'),\n",
    "            'factor': np.array(['Factor {}'.format(i+1) for i in range(f['factors'].shape[1])]), \n",
    "        },\n",
    "    )"
   ]
  },
  {
   "cell_type": "code",
   "execution_count": null,
   "metadata": {},
   "outputs": [],
   "source": [
    "for factor in sfa['factor']:\n",
    "    factor = factor.item()\n",
    "    display(Markdown(\"### {} ###\".format(factor)))\n",
    "    imagene_f = sfa['factors'].loc[{'factor': factor}]\n",
    "    tcga_f = tcga_factors.loc[{'factor': factor}]\n",
    "    \n",
    "    with plot.subplots(2, 1, sharex=True) as (fix, axs):\n",
    "        plot.hist(imagene_f, ax=axs[0], title=\"Imagene\")\n",
    "        plot.hist(tcga_f, ax=axs[1], title=\"TCGA\")\n",
    "    \n",
    "    plot.qqplot(tcga_f, imagene_f, diagonal=True, xlabel=\"TCGA\", ylabel=\"Imagene\")"
   ]
  },
  {
   "cell_type": "code",
   "execution_count": null,
   "metadata": {},
   "outputs": [],
   "source": []
  }
 ],
 "metadata": {
  "kernelspec": {
   "display_name": "Python 3",
   "language": "python",
   "name": "python3"
  },
  "language_info": {
   "codemirror_mode": {
    "name": "ipython",
    "version": 3
   },
   "file_extension": ".py",
   "mimetype": "text/x-python",
   "name": "python",
   "nbconvert_exporter": "python",
   "pygments_lexer": "ipython3",
   "version": "3.6.0"
  }
 },
 "nbformat": 4,
 "nbformat_minor": 1
}
