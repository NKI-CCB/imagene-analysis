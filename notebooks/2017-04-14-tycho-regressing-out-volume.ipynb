{
 "cells": [
  {
   "cell_type": "code",
   "execution_count": null,
   "metadata": {
    "deletable": true,
    "editable": true
   },
   "outputs": [],
   "source": [
    "import sys\n",
    "\n",
    "import numpy as np\n",
    "import xarray as xr\n",
    "\n",
    "sys.path.append('../src/lib/')\n",
    "import plot"
   ]
  },
  {
   "cell_type": "code",
   "execution_count": null,
   "metadata": {
    "deletable": true,
    "editable": true
   },
   "outputs": [],
   "source": [
    "def standardize(x, dim):\n",
    "    x = x - x.mean(dim)\n",
    "    x = x / x.std(dim)\n",
    "    x.name = 'standardized ' + x.name\n",
    "    return x"
   ]
  },
  {
   "cell_type": "code",
   "execution_count": null,
   "metadata": {
    "deletable": true,
    "editable": true
   },
   "outputs": [],
   "source": [
    "def cor(x, dim):\n",
    "    other_dim = [d for d in x.dims if d != dim]\n",
    "    assert(len(other_dim) == 1)\n",
    "    other_dim = other_dim[0]\n",
    "    x = x.transpose(other_dim, dim)\n",
    "    cor_a = np.corrcoef(x.values)\n",
    "    return xr.DataArray(\n",
    "        cor_a,\n",
    "        dims=(other_dim, other_dim),\n",
    "        coords={other_dim: x.coords[other_dim]},\n",
    "        name='pearson correlation'\n",
    "    )"
   ]
  },
  {
   "cell_type": "code",
   "execution_count": null,
   "metadata": {},
   "outputs": [],
   "source": [
    "def flat(x):\n",
    "    a = np.array(x.values.flat)\n",
    "    return xr.DataArray(\n",
    "        a,\n",
    "        dims={'flattened': a.shape},\n",
    "        name=x.name,\n",
    "    )"
   ]
  },
  {
   "cell_type": "markdown",
   "metadata": {
    "deletable": true,
    "editable": true
   },
   "source": [
    "## Load Data ##"
   ]
  },
  {
   "cell_type": "code",
   "execution_count": null,
   "metadata": {
    "deletable": true,
    "editable": true
   },
   "outputs": [],
   "source": [
    "ds = dict()\n",
    "for trans in ['lin', 'sqrt', 'cbrt']:\n",
    "    ds[trans] = xr.open_dataset('../data/processed/mri-features-reg-volume-{}.nc'.format(trans)).load()\n",
    "ds['no_reg'] = xr.open_dataset('../data/processed/mri-features.nc').load()\n",
    "ds['no_reg']['cbrt(volume)'] = np.cbrt(ds['no_reg']['volume'])"
   ]
  },
  {
   "cell_type": "markdown",
   "metadata": {
    "deletable": true,
    "editable": true
   },
   "source": [
    "Make data into a feature matrix."
   ]
  },
  {
   "cell_type": "code",
   "execution_count": null,
   "metadata": {
    "deletable": true,
    "editable": true
   },
   "outputs": [],
   "source": [
    "feature_mat = dict()\n",
    "for trans in ds.keys():\n",
    "    sel_var = [n for n, v in ds[trans].items() if v.dtype == np.dtype('float64')]\n",
    "    sel_var = list(set(sel_var) - {'MultiFocal'})\n",
    "    m = xr.concat(\n",
    "        [ds[trans][v] for v in sel_var],\n",
    "        xr.DataArray(sel_var, dims='feature', name='feature'),\n",
    "    )\n",
    "    m.name = 'value'\n",
    "    m = m.sel(case=np.isnan(m).sum('feature') == 0)\n",
    "    feature_mat[trans] = m"
   ]
  },
  {
   "cell_type": "code",
   "execution_count": null,
   "metadata": {
    "deletable": true,
    "editable": true
   },
   "outputs": [],
   "source": [
    "plot.heatmap(standardize(feature_mat['no_reg'], 'case'),\n",
    "             row_dendrogram=True, row_dist_metric='correlation',\n",
    "             col_dendrogram=True, col_dist_metric='euclidean')"
   ]
  },
  {
   "cell_type": "code",
   "execution_count": null,
   "metadata": {
    "deletable": true,
    "editable": true
   },
   "outputs": [],
   "source": [
    "plot.heatmap(standardize(feature_mat['lin'], 'case'),\n",
    "             row_dendrogram=True, row_dist_metric='correlation',\n",
    "             col_dendrogram=True, col_dist_metric='euclidean')"
   ]
  },
  {
   "cell_type": "code",
   "execution_count": null,
   "metadata": {
    "deletable": true,
    "editable": true
   },
   "outputs": [],
   "source": [
    "plot.heatmap(standardize(feature_mat['cbrt'], 'case'),\n",
    "             row_dendrogram=True, row_dist_metric='correlation',\n",
    "             col_dendrogram=True, col_dist_metric='euclidean')"
   ]
  },
  {
   "cell_type": "code",
   "execution_count": null,
   "metadata": {
    "deletable": true,
    "editable": true
   },
   "outputs": [],
   "source": [
    "no_alltf = [s for s in feature_mat['lin'].coords['feature'].values if s.split('_')[-1] != 'timeframes']"
   ]
  },
  {
   "cell_type": "code",
   "execution_count": null,
   "metadata": {
    "deletable": true,
    "editable": true
   },
   "outputs": [],
   "source": [
    "plot.heatmap(cor(feature_mat['no_reg'], 'case'),\n",
    "             row_dendrogram=True, symmetric=True)"
   ]
  },
  {
   "cell_type": "code",
   "execution_count": null,
   "metadata": {
    "deletable": true,
    "editable": true
   },
   "outputs": [],
   "source": [
    "plot.heatmap(cor(feature_mat['lin'], 'case'),\n",
    "             row_dendrogram=True, symmetric=True)"
   ]
  },
  {
   "cell_type": "code",
   "execution_count": null,
   "metadata": {
    "deletable": true,
    "editable": true
   },
   "outputs": [],
   "source": [
    "plot.heatmap(cor(feature_mat['cbrt'], 'case'),\n",
    "             row_dendrogram=True, symmetric=True)"
   ]
  },
  {
   "cell_type": "code",
   "execution_count": null,
   "metadata": {
    "deletable": true,
    "editable": true
   },
   "outputs": [],
   "source": [
    "plot.heatmap(cor(feature_mat['lin'].sel(feature=no_alltf), 'case'),\n",
    "             row_dendrogram=True, symmetric=True)"
   ]
  },
  {
   "cell_type": "code",
   "execution_count": null,
   "metadata": {
    "deletable": true,
    "editable": true
   },
   "outputs": [],
   "source": [
    "plot.hist(flat(cor(feature_mat['no_reg'].sel(feature=no_alltf), 'case')))"
   ]
  },
  {
   "cell_type": "code",
   "execution_count": null,
   "metadata": {
    "deletable": true,
    "editable": true
   },
   "outputs": [],
   "source": [
    "plot.hist(flat(cor(feature_mat['lin'].sel(feature=no_alltf), 'case')))"
   ]
  },
  {
   "cell_type": "code",
   "execution_count": null,
   "metadata": {
    "deletable": true,
    "editable": true
   },
   "outputs": [],
   "source": [
    "plot.hist(flat(cor(feature_mat['cbrt'].sel(feature=no_alltf), 'case')))"
   ]
  },
  {
   "cell_type": "code",
   "execution_count": null,
   "metadata": {
    "deletable": true,
    "editable": true
   },
   "outputs": [],
   "source": []
  },
  {
   "cell_type": "code",
   "execution_count": null,
   "metadata": {
    "deletable": true,
    "editable": true
   },
   "outputs": [],
   "source": []
  }
 ],
 "metadata": {
  "kernelspec": {
   "display_name": "Python 3",
   "language": "python",
   "name": "python3"
  },
  "language_info": {
   "codemirror_mode": {
    "name": "ipython",
    "version": 3
   },
   "file_extension": ".py",
   "mimetype": "text/x-python",
   "name": "python",
   "nbconvert_exporter": "python",
   "pygments_lexer": "ipython3",
   "version": "3.6.0"
  }
 },
 "nbformat": 4,
 "nbformat_minor": 2
}
