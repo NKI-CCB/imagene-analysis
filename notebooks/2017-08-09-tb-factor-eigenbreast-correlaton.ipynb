{
 "cells": [
  {
   "cell_type": "code",
   "execution_count": null,
   "metadata": {},
   "outputs": [],
   "source": [
    "from IPython.display import display\n",
    "import numpy as np\n",
    "import pandas as pd\n",
    "import scipy.stats\n",
    "from statsmodels.sandbox.stats.multicomp import multipletests\n",
    "import seaborn\n",
    "import xarray as xr"
   ]
  },
  {
   "cell_type": "code",
   "execution_count": null,
   "metadata": {},
   "outputs": [],
   "source": [
    "import plot\n",
    "import util"
   ]
  },
  {
   "cell_type": "markdown",
   "metadata": {},
   "source": [
    "## Load Data ##"
   ]
  },
  {
   "cell_type": "code",
   "execution_count": null,
   "metadata": {},
   "outputs": [],
   "source": [
    "sfa = xr.open_dataset(\"../models/sfa_tcga/sfa.nc\").load()\n",
    "eigenbreasts = xr.open_dataset(\"../data/processed/mri-eigenbreasts.nc\").load()\n",
    "assert all(eigenbreasts['case'] == sfa['case'])"
   ]
  },
  {
   "cell_type": "code",
   "execution_count": null,
   "metadata": {},
   "outputs": [],
   "source": [
    "sfa = sfa.rename({'factor': 'gexp_factor'})\n",
    "sfa['gexp_factor'] = [\"GF{}\".format(i+1) for i in range(len(sfa['gexp_factor']))]"
   ]
  },
  {
   "cell_type": "markdown",
   "metadata": {},
   "source": [
    "## Correlation Factors—MRI features ##"
   ]
  },
  {
   "cell_type": "markdown",
   "metadata": {},
   "source": [
    "Compute correlation between all MRI features (except for patient number, Comment and Multifocal) and SFA factors (`factor_feature_cor`). We also compute the nominal p value (`factor_feature_cor_nom_p`) and Bonferroni adjusted p-value (`factor_feature_cor_p`)."
   ]
  },
  {
   "cell_type": "code",
   "execution_count": null,
   "metadata": {},
   "outputs": [],
   "source": [
    "eb_f_cor = dict()\n",
    "for eb_set in eigenbreasts.data_vars:\n",
    "    eb_da = eigenbreasts[eb_set].transpose('case', 'PC')[:, 0:50]\n",
    "    sfa_sel = sfa.reindex(case=eb_da['case'])\n",
    "    eb_f_cor[eb_set] = util.cor(eb_da, sfa_sel['factors'], 'case')\n",
    "    nom_p = eb_f_cor[eb_set]['nominal_p']\n",
    "    _, p, _, _ = multipletests(nom_p.values.flat, method='bonferroni')\n",
    "    eb_f_cor[eb_set]['p'] = (nom_p.dims, p.reshape(nom_p.shape))\n",
    "    _, fdr, _, _ = multipletests(nom_p.values.flat, method='fdr_bh')\n",
    "    eb_f_cor[eb_set]['fdr'] = (nom_p.dims, fdr.reshape(nom_p.shape))"
   ]
  },
  {
   "cell_type": "code",
   "execution_count": null,
   "metadata": {},
   "outputs": [],
   "source": [
    "pd.DataFrame({eb: np.sum(c['fdr'] < 0.25).item() for eb, c in eb_f_cor.items()}, index=[''])"
   ]
  },
  {
   "cell_type": "code",
   "execution_count": null,
   "metadata": {},
   "outputs": [],
   "source": [
    "with plot.subplots(len(eb_f_cor), 1, figsize=(12, len(eb_f_cor)*2), sharex=True) as (fig, axs):\n",
    "    for eb_set_i, eb_set in enumerate(eb_f_cor):\n",
    "        seaborn.distplot(\n",
    "            np.abs(eb_f_cor[eb_set]['correlation']).max('PC'),\n",
    "            hist=True, kde=False, bins='sturges', rug=True,\n",
    "            ax=axs[eb_set_i],\n",
    "        )                \n",
    "        axs[eb_set_i].set_xlabel('')\n",
    "        axs[eb_set_i].set_title(eb_set)\n",
    "    axs[-1].set_xlabel('Maximum Pearson Correlation per factor')"
   ]
  },
  {
   "cell_type": "code",
   "execution_count": null,
   "metadata": {},
   "outputs": [],
   "source": [
    "with plot.subplots(len(eb_f_cor), 1, figsize=(12, len(eb_f_cor)*2), sharex=True) as (fig, axs):\n",
    "    for eb_set_i, eb_set in enumerate(eb_f_cor):\n",
    "        eb_vals = np.array(eb_f_cor[eb_set]['nominal_p'].values.flat)\n",
    "        seaborn.distplot(\n",
    "            eb_vals,\n",
    "            hist=True, bins='sturges', kde=False,\n",
    "            ax=axs[eb_set_i],\n",
    "        )                \n",
    "        axs[eb_set_i].set_xlabel('')\n",
    "        axs[eb_set_i].set_title(eb_set)\n",
    "    axs[-1].set_xlabel('Pearson Correlation nominal p-value')"
   ]
  },
  {
   "cell_type": "code",
   "execution_count": null,
   "metadata": {},
   "outputs": [],
   "source": [
    "with plot.subplots(len(eb_f_cor), 1, figsize=(12, len(eb_f_cor)*2), sharex=True) as (fig, axs):\n",
    "    for eb_set_i, eb_set in enumerate(eb_f_cor):\n",
    "        eb_vals = np.log10(np.array(eb_f_cor[eb_set]['nominal_p'].values.flat))\n",
    "        seaborn.distplot(\n",
    "            eb_vals,\n",
    "            hist=True, bins='sturges', kde=False,\n",
    "            ax=axs[eb_set_i],\n",
    "        )                \n",
    "        axs[eb_set_i].set_xlabel('')\n",
    "        axs[eb_set_i].set_title(eb_set)\n",
    "        axs[eb_set_i].set_yscale('log')\n",
    "    axs[-1].set_xlabel('Pearson Correlation nominal p-value')"
   ]
  },
  {
   "cell_type": "markdown",
   "metadata": {},
   "source": [
    "Heatmap of correlations. All of them are very low."
   ]
  },
  {
   "cell_type": "markdown",
   "metadata": {},
   "source": [
    "Heatmap of correlation with nominal p-values < 0.05. This is without multiple testing correction."
   ]
  },
  {
   "cell_type": "code",
   "execution_count": null,
   "metadata": {},
   "outputs": [],
   "source": [
    "with plot.subplots(1, 1) as (fig, ax):\n",
    "    plot.heatmap(\n",
    "        eb_f_cor['contra_ds8']['correlation'],\n",
    "        mask=eb_f_cor['contra_ds8']['nominal_p'] > 0.05,\n",
    "        cmap='coolwarm',\n",
    "        row_dendrogram=False,\n",
    "        xticklabels=sfa['factor_name'].values,\n",
    "        ax=ax,\n",
    "    )\n",
    "    ax.set_xticklabels(ax.get_xticklabels(), rotation=45, ha='right')"
   ]
  },
  {
   "cell_type": "markdown",
   "metadata": {},
   "source": [
    "None of the correlation are significant after multiple testing correction."
   ]
  },
  {
   "cell_type": "code",
   "execution_count": null,
   "metadata": {},
   "outputs": [],
   "source": [
    "with plot.subplots(1, 1) as (fig, ax):\n",
    "    plot.heatmap(\n",
    "        eb_f_cor['both_ds4']['correlation'],\n",
    "        mask=eb_f_cor['both_ds4']['fdr'] > 0.25,\n",
    "        cmap='coolwarm',\n",
    "        row_dendrogram=False,\n",
    "        xticklabels=sfa['factor_name'].values,\n",
    "        ax=ax,\n",
    "    )\n",
    "    ax.set_xticklabels(ax.get_xticklabels(), rotation=45, ha='right')"
   ]
  },
  {
   "cell_type": "code",
   "execution_count": null,
   "metadata": {},
   "outputs": [],
   "source": [
    "with plot.subplots(1, 1) as (fig, ax):\n",
    "    plot.heatmap(\n",
    "        eb_f_cor['ipsi_ds8']['correlation'],\n",
    "        mask=eb_f_cor['ipsi_ds8']['fdr'] > 0.25,\n",
    "        cmap='coolwarm',\n",
    "        row_dendrogram=False,\n",
    "        xticklabels=sfa['factor_name'].values,\n",
    "        ax=ax,\n",
    "    )\n",
    "    ax.set_xticklabels(ax.get_xticklabels(), rotation=45, ha='right')"
   ]
  }
 ],
 "metadata": {
  "kernelspec": {
   "display_name": "Python 3",
   "language": "python",
   "name": "python3"
  },
  "language_info": {
   "codemirror_mode": {
    "name": "ipython",
    "version": 3
   },
   "file_extension": ".py",
   "mimetype": "text/x-python",
   "name": "python",
   "nbconvert_exporter": "python",
   "pygments_lexer": "ipython3",
   "version": "3.6.0"
  }
 },
 "nbformat": 4,
 "nbformat_minor": 1
}
