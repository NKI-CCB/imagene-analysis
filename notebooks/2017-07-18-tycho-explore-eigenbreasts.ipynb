{
 "cells": [
  {
   "cell_type": "code",
   "execution_count": null,
   "metadata": {},
   "outputs": [],
   "source": [
    "import bqplot\n",
    "from IPython.display import display\n",
    "import ipywidgets\n",
    "import numpy as np\n",
    "import pandas as pd\n",
    "import xarray as xr"
   ]
  },
  {
   "cell_type": "code",
   "execution_count": null,
   "metadata": {},
   "outputs": [],
   "source": [
    "import plot"
   ]
  },
  {
   "cell_type": "code",
   "execution_count": null,
   "metadata": {},
   "outputs": [],
   "source": [
    "eigenbreasts = xr.open_dataset('../data/processed/mri-eigenbreasts.nc')"
   ]
  },
  {
   "cell_type": "code",
   "execution_count": null,
   "metadata": {},
   "outputs": [],
   "source": [
    "for var in eigenbreasts.data_vars:\n",
    "    plot.hist(eigenbreasts[var][0, :], title=var)"
   ]
  },
  {
   "cell_type": "code",
   "execution_count": null,
   "metadata": {},
   "outputs": [],
   "source": [
    "for var in eigenbreasts.data_vars:\n",
    "    print(var)\n",
    "    plot.scatter(eigenbreasts[var][0, :], eigenbreasts[var][1, :])"
   ]
  },
  {
   "cell_type": "code",
   "execution_count": null,
   "metadata": {},
   "outputs": [],
   "source": [
    "outliers = dict()\n",
    "for var in eigenbreasts.data_vars:\n",
    "    val = eigenbreasts[var][0, :]\n",
    "    outliers[var] = set(eigenbreasts['case'][val > 2*np.std(val.values)].values)\n",
    "outliers"
   ]
  },
  {
   "cell_type": "code",
   "execution_count": null,
   "metadata": {},
   "outputs": [],
   "source": [
    "outliers = dict()\n",
    "for var in eigenbreasts.data_vars:\n",
    "    val = eigenbreasts[var][1, :]\n",
    "    outliers[var] = set(eigenbreasts['case'][val > 2*np.std(val.values)].values)\n",
    "outliers"
   ]
  },
  {
   "cell_type": "code",
   "execution_count": null,
   "metadata": {},
   "outputs": [],
   "source": [
    "outliers = dict()\n",
    "for var in eigenbreasts.data_vars:\n",
    "    val = eigenbreasts[var][2, :]\n",
    "    outliers[var] = set(eigenbreasts['case'][val > 2*np.std(val.values)].values)\n",
    "outliers"
   ]
  },
  {
   "cell_type": "code",
   "execution_count": null,
   "metadata": {},
   "outputs": [],
   "source": [
    "for var in eigenbreasts.data_vars:\n",
    "    plot.hist(eigenbreasts[var][3, :], title=var)"
   ]
  }
 ],
 "metadata": {
  "kernelspec": {
   "display_name": "Python 3",
   "language": "python",
   "name": "python3"
  },
  "language_info": {
   "codemirror_mode": {
    "name": "ipython",
    "version": 3
   },
   "file_extension": ".py",
   "mimetype": "text/x-python",
   "name": "python",
   "nbconvert_exporter": "python",
   "pygments_lexer": "ipython3",
   "version": "3.6.0"
  }
 },
 "nbformat": 4,
 "nbformat_minor": 2
}
