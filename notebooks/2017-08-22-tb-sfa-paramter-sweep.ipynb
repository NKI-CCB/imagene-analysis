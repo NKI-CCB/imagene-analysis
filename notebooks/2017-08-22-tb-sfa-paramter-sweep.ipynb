{
 "cells": [
  {
   "cell_type": "code",
   "execution_count": null,
   "metadata": {},
   "outputs": [],
   "source": [
    "from collections import Counter\n",
    "from pathlib import Path\n",
    "\n",
    "from IPython.display import display, Markdown\n",
    "import matplotlib.pyplot\n",
    "import netCDF4\n",
    "import numpy as np\n",
    "import numexpr\n",
    "import pandas as pd\n",
    "import seaborn\n",
    "import xarray as xr\n",
    "\n",
    "import plot"
   ]
  },
  {
   "cell_type": "code",
   "execution_count": null,
   "metadata": {},
   "outputs": [],
   "source": [
    "def index_over_dim(array, reduce_dim, index_array):\n",
    "    assert len(array.shape) == len(index_array.shape) + 1\n",
    "    \n",
    "    non_reduced_indices = list(np.mgrid[tuple(range(0, i) for i in index_array.shape)])\n",
    "    indices = [None] * len(array.shape)\n",
    "    for i, dim in enumerate(array.dims):\n",
    "        if dim == reduce_dim:\n",
    "            indices[i] = index_array.values\n",
    "        else:\n",
    "            index_array.dims.index(dim)\n",
    "            indices[i] = non_reduced_indices[index_array.dims.index(dim)]\n",
    "    indices = tuple(indices)\n",
    "    \n",
    "    dims = tuple(d for d in array.dims if d != reduce_dim)\n",
    "    coords = {n: v for n, v in array.coords.items() if reduce_dim not in v.dims}\n",
    "    \n",
    "    return xr.DataArray(\n",
    "        array.values[indices],\n",
    "        dims=dims,\n",
    "        coords=coords,\n",
    "    )"
   ]
  },
  {
   "cell_type": "code",
   "execution_count": null,
   "metadata": {},
   "outputs": [],
   "source": [
    "data_ds = xr.open_dataset('../data/processed/concat-data.nc')"
   ]
  },
  {
   "cell_type": "markdown",
   "metadata": {},
   "source": [
    "## Coarse Grid Search ##"
   ]
  },
  {
   "cell_type": "code",
   "execution_count": null,
   "metadata": {},
   "outputs": [],
   "source": [
    "bic_coarse_pth = Path(\"../models/sfa_mri_cad/parameter_sweep_coarse-bics.nc\")"
   ]
  },
  {
   "cell_type": "code",
   "execution_count": null,
   "metadata": {},
   "outputs": [],
   "source": [
    "bics_cs_ds = xr.open_dataset(str(bic_coarse_pth)).load()\n",
    "display(bics_cs_ds)"
   ]
  },
  {
   "cell_type": "code",
   "execution_count": null,
   "metadata": {},
   "outputs": [],
   "source": [
    "def bics_to_array(bics_ds):\n",
    "    bics_sel = bics_ds.sel(model=bics_ds['n_iter'] < 9998)\n",
    "    bics_nona = bics_sel.sel(model=bics_sel.to_array().isnull().sum('variable') == 0)\n",
    "    bics_array = bics_nona.set_index(model=['l_gexp', 'l_mri', 'alpha', 'k']).unstack('model')\n",
    "    bics_array.attrs['empty_model_bic'] = bics_ds.attrs['empty_model_bic']\n",
    "    \n",
    "    return bics_array\n",
    "\n",
    "bics_cs_array = bics_to_array(bics_cs_ds)\n",
    "display(bics_cs_array)"
   ]
  },
  {
   "cell_type": "markdown",
   "metadata": {},
   "source": [
    "Best BIC over all k and alpha, for lambda penalties of the datatypes."
   ]
  },
  {
   "cell_type": "code",
   "execution_count": null,
   "metadata": {},
   "outputs": [],
   "source": [
    "def heatmap_l_penalty_bic(bics_array):\n",
    "    plot.heatmap(\n",
    "        bics_array['bic'].fillna(bics_array['bic'].max()).min(['alpha', 'k']),\n",
    "        zlim=[float(bics_cs_array['bic'].min()), bics_array.attrs['empty_model_bic']],\n",
    "        zlabel='BIC',\n",
    "    )\n",
    "heatmap_l_penalty_bic(bics_cs_array)"
   ]
  },
  {
   "cell_type": "code",
   "execution_count": null,
   "metadata": {},
   "outputs": [],
   "source": [
    "def heatmaps_l_penalty_over_k(bics_array):\n",
    "    for k in bics_array['k'].values:\n",
    "        display(Markdown(f\"### k={k} ###\"))\n",
    "        ba = bics_array.sel(k=k).drop('k')\n",
    "        alpha_idx = ba['bic'].fillna(ba['bic'].max()).argmin('alpha')\n",
    "        plot.heatmap(\n",
    "            index_over_dim(ba['bic'], 'alpha', alpha_idx),\n",
    "            zlim=[float(ba['bic'].min()), bics_array.attrs['empty_model_bic']],\n",
    "            zlabel='BIC',\n",
    "        )\n",
    "        plot.heatmap(\n",
    "            xr.DataArray(ba.coords['alpha'][np.asarray(alpha_idx)].values, alpha_idx.coords),\n",
    "            cmap='inferno',\n",
    "            zlabel='alpha'\n",
    "        )\n",
    "        plot.heatmap(\n",
    "            index_over_dim(ba['deviance_gexp'], 'alpha', alpha_idx),\n",
    "            zlabel='Deviance (gexp)',\n",
    "        )\n",
    "        plot.heatmap(\n",
    "            index_over_dim(ba['deviance_mri'], 'alpha', alpha_idx),\n",
    "            zlabel='Deviance (MRI)',\n",
    "        )\n",
    "        plot.heatmap(\n",
    "            index_over_dim(ba['dof_gexp'], 'alpha', alpha_idx),\n",
    "            zlabel='Degrees of Freedom (gexp)',\n",
    "        )\n",
    "        plot.heatmap(\n",
    "            index_over_dim(ba['dof_mri'], 'alpha', alpha_idx),\n",
    "            zlabel='Degrees of Freedom (MRI)',\n",
    "        )\n",
    "        plot.heatmap(\n",
    "            index_over_dim(ba['sparsity_gexp'], 'alpha', alpha_idx),\n",
    "            zlim=[0, 1], cmap='Greys',\n",
    "            zlabel='Sparsity (gexp)',\n",
    "        )\n",
    "        plot.heatmap(\n",
    "            index_over_dim(ba['sparsity_mri'], 'alpha', alpha_idx),\n",
    "            zlim=[0, 1], cmap='Greys',\n",
    "            zlabel='Sparsity (MRI)',\n",
    "        )\n",
    "        \n",
    "heatmaps_l_penalty_over_k(bics_cs_array)"
   ]
  },
  {
   "cell_type": "code",
   "execution_count": null,
   "metadata": {},
   "outputs": [],
   "source": [
    "with plot.subplots(1, 1, figsize=(10, 3)) as (fig, ax):\n",
    "    plot.lines(\n",
    "        bics_cs_array['bic'].min(['alpha', 'l_gexp', 'l_mri']),\n",
    "        ax=ax,\n",
    "    )"
   ]
  },
  {
   "cell_type": "markdown",
   "metadata": {},
   "source": [
    "## Finer Grid Search ##"
   ]
  },
  {
   "cell_type": "code",
   "execution_count": null,
   "metadata": {},
   "outputs": [],
   "source": [
    "bic_fine_pth = Path(\"../models/sfa_mri_cad/parameter_sweep_fine-bics.nc\")"
   ]
  },
  {
   "cell_type": "code",
   "execution_count": null,
   "metadata": {},
   "outputs": [],
   "source": [
    "bics_fs_ds = xr.open_dataset(str(bic_fine_pth)).load()"
   ]
  },
  {
   "cell_type": "code",
   "execution_count": null,
   "metadata": {},
   "outputs": [],
   "source": [
    "bics_fs_array = bics_to_array(bics_fs_ds)\n",
    "display(bics_fs_array)"
   ]
  },
  {
   "cell_type": "code",
   "execution_count": null,
   "metadata": {},
   "outputs": [],
   "source": [
    "heatmap_l_penalty_bic(bics_fs_array)"
   ]
  },
  {
   "cell_type": "code",
   "execution_count": null,
   "metadata": {},
   "outputs": [],
   "source": [
    "heatmaps_l_penalty_over_k(bics_fs_array)"
   ]
  },
  {
   "cell_type": "code",
   "execution_count": null,
   "metadata": {},
   "outputs": [],
   "source": [
    "bics_fs_array"
   ]
  },
  {
   "cell_type": "code",
   "execution_count": null,
   "metadata": {},
   "outputs": [],
   "source": [
    "display(bics_fs_array['bic'].min())\n",
    "min_idx = tuple(i[0] for i in np.where(bics_fs_array['bic'].min() == bics_fs_array['bic']))\n",
    "bics_fs_array['bic'][min_idx]"
   ]
  },
  {
   "cell_type": "code",
   "execution_count": null,
   "metadata": {},
   "outputs": [],
   "source": [
    "bics_sel = bics_fs_ds.sel(model=bics_fs_ds['n_iter'] < bics_fs_ds['n_iter'].max())\n",
    "bics_sel.isel(model=int(bics_sel['bic'].argmin()))"
   ]
  },
  {
   "cell_type": "code",
   "execution_count": null,
   "metadata": {},
   "outputs": [],
   "source": [
    "bics_sel"
   ]
  }
 ],
 "metadata": {
  "kernelspec": {
   "display_name": "Python 3",
   "language": "python",
   "name": "python3"
  },
  "language_info": {
   "codemirror_mode": {
    "name": "ipython",
    "version": 3
   },
   "file_extension": ".py",
   "mimetype": "text/x-python",
   "name": "python",
   "nbconvert_exporter": "python",
   "pygments_lexer": "ipython3",
   "version": "3.6.0"
  }
 },
 "nbformat": 4,
 "nbformat_minor": 2
}
