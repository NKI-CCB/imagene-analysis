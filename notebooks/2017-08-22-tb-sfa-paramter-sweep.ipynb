{
 "cells": [
  {
   "cell_type": "code",
   "execution_count": null,
   "metadata": {},
   "outputs": [],
   "source": [
    "from collections import Counter\n",
    "from pathlib import Path\n",
    "\n",
    "import netCDF4\n",
    "import numpy as np\n",
    "import numexpr\n",
    "import pandas as pd\n",
    "import xarray as xr\n",
    "\n",
    "import plot"
   ]
  },
  {
   "cell_type": "code",
   "execution_count": null,
   "metadata": {},
   "outputs": [],
   "source": []
  },
  {
   "cell_type": "code",
   "execution_count": null,
   "metadata": {},
   "outputs": [],
   "source": [
    "def index_over_dim(array, reduce_dim, index_array):\n",
    "    assert len(array.shape) == len(index_array.shape) + 1\n",
    "    \n",
    "    non_reduced_indices = list(np.mgrid[tuple(range(0, i) for i in index_array.shape)])\n",
    "    indices = [None] * len(array.shape)\n",
    "    for i, dim in enumerate(array.dims):\n",
    "        if dim == reduce_dim:\n",
    "            indices[i] = index_array.values\n",
    "        else:\n",
    "            index_array.dims.index(dim)\n",
    "            indices[i] = non_reduced_indices[index_array.dims.index(dim)]\n",
    "    indices = tuple(indices)\n",
    "    \n",
    "    dims = tuple(d for d in array.dims if d != reduce_dim)\n",
    "    coords = {n: v for n, v in array.coords.items() if reduce_dim not in v.dims}\n",
    "    \n",
    "    return xr.DataArray(\n",
    "        array.values[indices],\n",
    "        dims=dims,\n",
    "        coords=coords,\n",
    "    )"
   ]
  },
  {
   "cell_type": "code",
   "execution_count": null,
   "metadata": {},
   "outputs": [],
   "source": [
    "#sweep_pth = Path(\"../models/sfa_mri_cad/gexp_sweep.nc\")\n",
    "bic_pth = Path(\"../models/sfa_mri_cad/parameter_sweep_coarse-bics.nc\")"
   ]
  },
  {
   "cell_type": "code",
   "execution_count": null,
   "metadata": {},
   "outputs": [],
   "source": [
    "bics = xr.open_dataset(str(bic_pth)).load()\n",
    "bics"
   ]
  },
  {
   "cell_type": "code",
   "execution_count": null,
   "metadata": {},
   "outputs": [],
   "source": [
    "bics_nona = bics.sel(model=bics.to_array().isnull().sum('variable') == 0)\n",
    "bics_array = bics_nona.set_index(model=['l_gexp', 'l_mri', 'alpha']).unstack('model')\n",
    "min_bic = bics_array['bic'].min().values.item()\n",
    "bics_array"
   ]
  },
  {
   "cell_type": "code",
   "execution_count": null,
   "metadata": {},
   "outputs": [],
   "source": [
    "sel_alpha_idx = bics_array['bic'].fillna(bics_array['bic'].max()).argmin('alpha')\n",
    "plot.heatmap(index_over_dim(bics_array['bic'], 'alpha', sel_alpha_idx), zlim=[min_bic, bics.attrs['empty_model_bic']])"
   ]
  },
  {
   "cell_type": "code",
   "execution_count": null,
   "metadata": {},
   "outputs": [],
   "source": [
    "plot.heatmap(index_over_dim(bics_array['deviance_gexp'], 'alpha', sel_alpha_idx))"
   ]
  },
  {
   "cell_type": "code",
   "execution_count": null,
   "metadata": {},
   "outputs": [],
   "source": [
    "plot.heatmap(index_over_dim(bics_array['deviance_mri'], 'alpha', sel_alpha_idx))"
   ]
  },
  {
   "cell_type": "code",
   "execution_count": null,
   "metadata": {},
   "outputs": [],
   "source": [
    "plot.heatmap(xr.DataArray(np.asarray(sel_alpha_idx, dtype='f'), sel_alpha_idx.coords), cmap='Accent')"
   ]
  },
  {
   "cell_type": "code",
   "execution_count": null,
   "metadata": {},
   "outputs": [],
   "source": [
    "plot.heatmap(index_over_dim(bics_array['sparsity_gexp'], 'alpha', sel_alpha_idx))"
   ]
  },
  {
   "cell_type": "code",
   "execution_count": null,
   "metadata": {},
   "outputs": [],
   "source": [
    "plot.heatmap(index_over_dim(bics_array['sparsity_mri'], 'alpha', sel_alpha_idx))"
   ]
  },
  {
   "cell_type": "code",
   "execution_count": null,
   "metadata": {},
   "outputs": [],
   "source": []
  }
 ],
 "metadata": {
  "kernelspec": {
   "display_name": "Python 3",
   "language": "python",
   "name": "python3"
  },
  "language_info": {
   "codemirror_mode": {
    "name": "ipython",
    "version": 3
   },
   "file_extension": ".py",
   "mimetype": "text/x-python",
   "name": "python",
   "nbconvert_exporter": "python",
   "pygments_lexer": "ipython3",
   "version": "3.6.0"
  }
 },
 "nbformat": 4,
 "nbformat_minor": 2
}
