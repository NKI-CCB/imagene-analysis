{
 "cells": [
  {
   "cell_type": "code",
   "execution_count": null,
   "metadata": {},
   "outputs": [],
   "source": [
    "from IPython.display import display\n",
    "import numpy as np\n",
    "import scipy.stats\n",
    "import xarray as xr"
   ]
  },
  {
   "cell_type": "code",
   "execution_count": null,
   "metadata": {},
   "outputs": [],
   "source": [
    "import plot"
   ]
  },
  {
   "cell_type": "markdown",
   "metadata": {},
   "source": [
    "## Load Data ##"
   ]
  },
  {
   "cell_type": "code",
   "execution_count": null,
   "metadata": {},
   "outputs": [],
   "source": [
    "sfa = xr.open_dataset('../models/sfa.nc')\n",
    "display(sfa)"
   ]
  },
  {
   "cell_type": "code",
   "execution_count": null,
   "metadata": {},
   "outputs": [],
   "source": [
    "mri = xr.open_dataset('../data/processed/mri-features.nc')\n",
    "assert all(mri['case'] == sfa['case'])\n",
    "display(mri)"
   ]
  },
  {
   "cell_type": "markdown",
   "metadata": {},
   "source": [
    "## Correlation Factors—MRI features ##"
   ]
  },
  {
   "cell_type": "markdown",
   "metadata": {},
   "source": [
    "Compute correlation between all MRI features (except for patient number, Comment and Multifocal) and SFA factors (`factor_feature_cor`). We also compute the nominal p value (`factor_feature_cor_nom_p`) and Bonferroni adjusted p-value (`factor_feature_cor_p`)."
   ]
  },
  {
   "cell_type": "code",
   "execution_count": null,
   "metadata": {},
   "outputs": [],
   "source": [
    "mri_features = list(set(mri.keys()) - {'case', 'Comment', 'MultiFocal'})\n",
    "factor_feature_cor = xr.DataArray(\n",
    "    np.full((sfa['factor'].shape[0], len(mri_features)), np.nan),\n",
    "    dims=['factor', 'mri_feature'],\n",
    "    coords={\n",
    "        'factor': sfa['factor'],\n",
    "        'mri_feature': mri_features,\n",
    "    },\n",
    ")\n",
    "factor_feature_cor.name = \"Pearson correlation\"\n",
    "factor_feature_cor_nom_p = factor_feature_cor.copy()\n",
    "\n",
    "for feature in factor_feature_cor['mri_feature']:\n",
    "    feature = feature.item()\n",
    "    for factor in factor_feature_cor['factor']:\n",
    "        factor = factor.item()\n",
    "        mri_v = mri[feature].values\n",
    "        factor_v = sfa['factors'].loc[{'factor': factor}].values\n",
    "        \n",
    "        not_nan = np.logical_not(np.isnan(factor_v) | np.isnan(mri_v))\n",
    "        c, p = scipy.stats.pearsonr(mri_v[not_nan], factor_v[not_nan])\n",
    "        \n",
    "        factor_feature_cor.loc[{'factor': factor, 'mri_feature': feature}] = c\n",
    "        factor_feature_cor_nom_p.loc[{'factor': factor, 'mri_feature': feature}] = p\n",
    "        \n",
    "factor_feature_cor_p = np.fmax(\n",
    "    factor_feature_cor_nom_p *\n",
    "    factor_feature_cor_nom_p.shape[0] *\n",
    "    factor_feature_cor_nom_p.shape[0],\n",
    "    1.0)\n",
    "\n",
    "short_factor_name = [f.item()[7:] for f in sfa['factor']]"
   ]
  },
  {
   "cell_type": "markdown",
   "metadata": {},
   "source": [
    "Heatmap of correlations. All of them are very low."
   ]
  },
  {
   "cell_type": "code",
   "execution_count": null,
   "metadata": {},
   "outputs": [],
   "source": [
    "plot.heatmap(factor_feature_cor.T, cmap='coolwarm', row_dendrogram=True, xticklabels=short_factor_name)"
   ]
  },
  {
   "cell_type": "markdown",
   "metadata": {},
   "source": [
    "Heatmap of correlation with nominal p-values < 0.05. This is without multiple testing correction."
   ]
  },
  {
   "cell_type": "code",
   "execution_count": null,
   "metadata": {},
   "outputs": [],
   "source": [
    "plot.heatmap(factor_feature_cor.T, mask=factor_feature_cor_nom_p.T > 0.05, cmap='coolwarm', row_dendrogram=True, xticklabels=short_factor_name)"
   ]
  },
  {
   "cell_type": "markdown",
   "metadata": {},
   "source": [
    "None of the correlation are significant after multiple testing correction."
   ]
  },
  {
   "cell_type": "code",
   "execution_count": null,
   "metadata": {},
   "outputs": [],
   "source": [
    "plot.heatmap(factor_feature_cor.T, mask=factor_feature_cor_p.T > 0.25, cmap='coolwarm', row_dendrogram=True, xticklabels=short_factor_name)"
   ]
  }
 ],
 "metadata": {
  "kernelspec": {
   "display_name": "Python 3",
   "language": "python",
   "name": "python3"
  },
  "language_info": {
   "codemirror_mode": {
    "name": "ipython",
    "version": 3
   },
   "file_extension": ".py",
   "mimetype": "text/x-python",
   "name": "python",
   "nbconvert_exporter": "python",
   "pygments_lexer": "ipython3",
   "version": "3.6.0"
  }
 },
 "nbformat": 4,
 "nbformat_minor": 1
}
