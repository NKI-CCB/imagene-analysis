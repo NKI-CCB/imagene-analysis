{
 "cells": [
  {
   "cell_type": "code",
   "execution_count": null,
   "metadata": {
    "deletable": true,
    "editable": true
   },
   "outputs": [],
   "source": [
    "from collections import Counter\n",
    "import sys"
   ]
  },
  {
   "cell_type": "code",
   "execution_count": null,
   "metadata": {
    "deletable": true,
    "editable": true
   },
   "outputs": [],
   "source": [
    "from IPython.display import display, Markdown\n",
    "import numpy as np\n",
    "import pandas as pd\n",
    "import sklearn.cluster\n",
    "import sklearn.decomposition\n",
    "import sklearn.linear_model\n",
    "import sklearn.metrics\n",
    "import sklearn.model_selection\n",
    "import xarray as xr"
   ]
  },
  {
   "cell_type": "code",
   "execution_count": null,
   "metadata": {
    "deletable": true,
    "editable": true
   },
   "outputs": [],
   "source": [
    "sys.path.append('../src/lib/')\n",
    "import plot"
   ]
  },
  {
   "cell_type": "markdown",
   "metadata": {
    "deletable": true,
    "editable": true
   },
   "source": [
    "## Load Data ##"
   ]
  },
  {
   "cell_type": "markdown",
   "metadata": {},
   "source": [
    "Factors calculated on the Imagene gene expression data set."
   ]
  },
  {
   "cell_type": "code",
   "execution_count": null,
   "metadata": {
    "deletable": true,
    "editable": true
   },
   "outputs": [],
   "source": [
    "sfa = xr.open_dataset('../models/sfa.nc')\n",
    "sfa['factor_name'] = ('factor', np.array([\n",
    "    'ER',\n",
    "    'EMT',\n",
    "    'Luminal Proliferative',\n",
    "    'Technical RNA-seq',\n",
    "    'Technical RPPA',\n",
    "    'Immune',\n",
    "    'HER2',\n",
    "    'Normal-like / ILC',\n",
    "    'Basal',\n",
    "    'Chr8'\n",
    "], 'object'))\n",
    "sfa"
   ]
  },
  {
   "cell_type": "markdown",
   "metadata": {},
   "source": [
    "MRI features from the same patients."
   ]
  },
  {
   "cell_type": "code",
   "execution_count": null,
   "metadata": {
    "deletable": true,
    "editable": true
   },
   "outputs": [],
   "source": [
    "mri = xr.open_dataset('../data/processed/mri-features.nc')\n",
    "mri = mri.reindex(patient=sfa['patient'])\n",
    "assert all(mri['patient'].values == sfa['patient'].values)\n",
    "mri"
   ]
  },
  {
   "cell_type": "markdown",
   "metadata": {},
   "source": [
    "And clinical variables."
   ]
  },
  {
   "cell_type": "code",
   "execution_count": null,
   "metadata": {
    "deletable": true,
    "editable": true
   },
   "outputs": [],
   "source": [
    "clin = pd.read_table('../data/raw/imagene_clinical.tsv')\n",
    "clin = clin.set_index('margins_patient')\n",
    "clin.index.name = 'patient'\n",
    "clin = clin.to_xarray()\n",
    "clin = clin.reindex(patient=sfa['patient'])\n",
    "assert(np.all(clin['patient'].values == sfa['patient'].values))\n",
    "clin"
   ]
  },
  {
   "cell_type": "code",
   "execution_count": null,
   "metadata": {},
   "outputs": [],
   "source": [
    "Counter(clin['ihc_subtype'].values)"
   ]
  },
  {
   "cell_type": "markdown",
   "metadata": {
    "deletable": true,
    "editable": true
   },
   "source": [
    "Select samples with no missing values for MRI features, and put them into an array."
   ]
  },
  {
   "cell_type": "code",
   "execution_count": null,
   "metadata": {
    "deletable": true,
    "editable": true
   },
   "outputs": [],
   "source": [
    "mri_features = list(set(mri.keys()) - {'patient', 'Comment', 'MultiFocal'})\n",
    "mri_array = mri[mri_features].to_array()"
   ]
  },
  {
   "cell_type": "markdown",
   "metadata": {
    "deletable": true,
    "editable": true
   },
   "source": [
    "## Supporting Functions ##"
   ]
  },
  {
   "cell_type": "code",
   "execution_count": null,
   "metadata": {
    "deletable": true,
    "editable": true
   },
   "outputs": [],
   "source": [
    "def plot_roc(y_true, y_score):\n",
    "    \"\"\"Plot a ROC curve for binary true y and predicted y scores.\"\"\"\n",
    "    fpr, tpr, thresholds = sklearn.metrics.roc_curve(y_true, y_score)\n",
    "    auc = sklearn.metrics.auc(fpr, tpr)\n",
    "    with plot.subplots(1, 1) as (fig, ax):\n",
    "        ax.plot(fpr, tpr)\n",
    "        ax.plot([0, 1], [0, 1], color='black', linestyle='--')\n",
    "        ax.set_title(\"AUC = {}\".format(auc))"
   ]
  },
  {
   "cell_type": "code",
   "execution_count": null,
   "metadata": {
    "deletable": true,
    "editable": true
   },
   "outputs": [],
   "source": [
    "def bin_performance(y, y_pred):\n",
    "    \"\"\"Display performance for binary classification.\"\"\"\n",
    "    if y_pred.dtype != np.bool:\n",
    "        y_pred = y_pred > 0.5\n",
    "    \n",
    "    return dict({\n",
    "        'Accuracy': np.mean(y == y_pred),\n",
    "        'Sensitivity': np.sum(y & y_pred) / np.sum(y),\n",
    "        'Specificity': np.sum(~y & ~y_pred) / np.sum(~y),\n",
    "        'Precision': np.sum(y & y_pred) / np.sum(y_pred)\n",
    "    })"
   ]
  },
  {
   "cell_type": "code",
   "execution_count": null,
   "metadata": {},
   "outputs": [],
   "source": [
    "def mse_performance(y, y_pred):\n",
    "    \"\"\"\"Display performance by mean square error.\"\"\"\n",
    "    if y_pred.dtype != np.bool:\n",
    "        y_pred = y_pred > 0.5\n",
    "    \n",
    "    return dict({\n",
    "        'MSE': np.mean((y - y_pred)**2)\n",
    "    })"
   ]
  },
  {
   "cell_type": "code",
   "execution_count": null,
   "metadata": {},
   "outputs": [],
   "source": [
    "class PcaLog():\n",
    "    \"\"\"Predictive model by logistic regression of principal components.\"\"\"\n",
    "    \n",
    "    def __init__(self, n_components):\n",
    "        self.n_components = n_components\n",
    "\n",
    "    def train(self, X, y):\n",
    "\n",
    "        self._pca = sklearn.decomposition.PCA(self.n_components)\n",
    "        X_pc = self._pca.fit_transform(X)\n",
    "\n",
    "        self._logm = sklearn.linear_model.LogisticRegression()\n",
    "        self._logm.fit(X_pc, y)\n",
    "        \n",
    "    def predict(self, X):\n",
    "        X_pc = self._pca.transform(X)\n",
    "        return self._logm.predict_proba(X_pc)[:, 1]"
   ]
  },
  {
   "cell_type": "code",
   "execution_count": null,
   "metadata": {},
   "outputs": [],
   "source": [
    "class PcaLin():\n",
    "    \"\"\"Predictive model by linear regression of principal components.\"\"\"\n",
    "    \n",
    "    def __init__(self, n_components):\n",
    "        self.n_components = n_components\n",
    "\n",
    "    def train(self, X, y):\n",
    "\n",
    "        self._pca = sklearn.decomposition.PCA(self.n_components)\n",
    "        X_pc = self._pca.fit_transform(X)\n",
    "\n",
    "        self._lm = sklearn.linear_model.LinearRegression()\n",
    "        self._lm.fit(X_pc, y)\n",
    "        \n",
    "    def predict(self, X):\n",
    "        X_pc = self._pca.transform(X)\n",
    "        return self._lm.predict(X_pc)"
   ]
  },
  {
   "cell_type": "markdown",
   "metadata": {
    "deletable": true,
    "editable": true
   },
   "source": [
    "# Predict ER status from MRI features #"
   ]
  },
  {
   "cell_type": "markdown",
   "metadata": {},
   "source": [
    "This as a sanity check for the method. We know we should be able to predict ER status to some extent, and predicting the ER factor should perform similarly."
   ]
  },
  {
   "cell_type": "code",
   "execution_count": null,
   "metadata": {
    "deletable": true,
    "editable": true
   },
   "outputs": [],
   "source": [
    "sel_patients = list(\n",
    "    {p for t, p in zip(clin['ihc_subtype'], clin['patient'].values)\n",
    "     if t in ['ER+/HER2-', 'TN']} &\n",
    "    {p for n, p in zip(np.isnan(mri_array).sum('variable'), mri_array['patient'].values)\n",
    "     if n == 0})\n",
    "X = mri_array.reindex(patient=sel_patients).transpose('patient', 'variable').values\n",
    "y = clin['ihc_subtype'].reindex(patient=sel_patients).values == 'ER+/HER2-'\n",
    "\n",
    "display(Markdown(\"Number of samples: {}\".format(X.shape[0])))\n",
    "\n",
    "display(Markdown(\"Performance under null model:\"))\n",
    "display(bin_performance(y, np.ones(len(y))))\n",
    "\n",
    "display(Markdown(\"**Logistic PC Regresion**\"))\n",
    "\n",
    "model = PcaLog(10)\n",
    "model.train(X, y)\n",
    "y_pred = model.predict(X)\n",
    "display(bin_performance(y, y_pred))\n",
    "plot_roc(y, y_pred)\n",
    "\n",
    "display(Markdown(\"**LOOCV Logistic PC Regresion**\"))\n",
    "\n",
    "loocv = sklearn.model_selection.LeaveOneOut()\n",
    "y_pred = np.full(y.shape, np.nan)\n",
    "for train_index, test_index in loocv.split(X):\n",
    "    m = PcaLog(10)\n",
    "    m.train(X[train_index, :], y[train_index])\n",
    "    y_pred[test_index] = m.predict(X[test_index, :])\n",
    "display(bin_performance(y, y_pred))\n",
    "plot_roc(y, y_pred)"
   ]
  },
  {
   "cell_type": "markdown",
   "metadata": {
    "deletable": true,
    "editable": true
   },
   "source": [
    "# Predict Factors from MRI features in all subtypes #"
   ]
  },
  {
   "cell_type": "markdown",
   "metadata": {
    "deletable": true,
    "editable": true
   },
   "source": [
    "## Linear Regression ##"
   ]
  },
  {
   "cell_type": "code",
   "execution_count": null,
   "metadata": {
    "deletable": true,
    "editable": true
   },
   "outputs": [],
   "source": [
    "sel_patients = list(\n",
    "    set(sfa['patient'].values) &\n",
    "    {p for n, p in zip(np.isnan(mri_array).sum('variable'), mri_array['patient'].values)\n",
    "     if n == 0})\n",
    "X = mri_array.reindex(patient=sel_patients).transpose('patient', 'variable').values\n",
    "y = sfa['factors'].reindex(patient=sel_patients).transpose('patient', 'factor').values\n",
    "y = (y - np.mean(y, 0, keepdims=True)) / np.std(y, 0, keepdims=True)\n",
    "\n",
    "display(Markdown(\"Number of samples: {}\".format(X.shape[0])))\n",
    "\n",
    "for factor_i in range(y.shape[1]):\n",
    "    loocv = sklearn.model_selection.LeaveOneOut()\n",
    "    y_pred = np.full(y.shape[0], np.nan)\n",
    "    for train_index, test_index in loocv.split(X):\n",
    "        m = PcaLin(10)\n",
    "        m.train(X[train_index, :], y[train_index, factor_i])\n",
    "        y_pred[test_index] = m.predict(X[test_index, :])\n",
    "    display(Markdown(\"##### Factor {} \".format(sfa['factor_name'][factor_i].item())))\n",
    "    display(mse_performance(y[:, factor_i], y_pred))\n",
    "    with plot.subplots(1, 1) as (fig, ax):\n",
    "        ax.plot(y[:, factor_i], y_pred, '.')  "
   ]
  },
  {
   "cell_type": "markdown",
   "metadata": {
    "deletable": true,
    "editable": true
   },
   "source": [
    "## Logistic Regression ##"
   ]
  },
  {
   "cell_type": "code",
   "execution_count": null,
   "metadata": {
    "deletable": true,
    "editable": true
   },
   "outputs": [],
   "source": [
    "sel_patients = list(\n",
    "    set(sfa['patient'].values) &\n",
    "    {p for n, p in zip(np.isnan(mri_array).sum('variable'), mri_array['patient'].values)\n",
    "     if n == 0})\n",
    "X = mri_array.reindex(patient=sel_patients).transpose('patient', 'variable').values\n",
    "\n",
    "# Make factors binary\n",
    "y_real = sfa['factors'].reindex(patient=sel_patients).transpose('patient', 'factor').values\n",
    "y = np.zeros(y_real.shape, dtype=np.bool)\n",
    "for factor_i in range(y.shape[1]):\n",
    "    kmeans = sklearn.cluster.KMeans(2)\n",
    "    kmeans.fit(y_real[:, [factor_i]])\n",
    "    y[:, factor_i] = np.array(kmeans.labels_ == 1)\n",
    "\n",
    "for factor_i in range(y.shape[1]):\n",
    "    loocv = sklearn.model_selection.LeaveOneOut()\n",
    "    y_pred = np.full(y.shape[0], np.nan)\n",
    "    for train_index, test_index in loocv.split(X):\n",
    "        m = PcaLog(10)\n",
    "        m.train(X[train_index, :], y[train_index, factor_i])\n",
    "        y_pred[test_index] = m.predict(X[test_index, :])\n",
    "    display(Markdown(\"##### Factor {} \".format(sfa['factor_name'][factor_i].item())))\n",
    "    display(bin_performance(y[:, factor_i], y_pred))\n",
    "    plot_roc(y[:, factor_i], y_pred)"
   ]
  },
  {
   "cell_type": "markdown",
   "metadata": {
    "deletable": true,
    "editable": true
   },
   "source": [
    "# Predict Factors from MRI features in ER+ #"
   ]
  },
  {
   "cell_type": "markdown",
   "metadata": {
    "deletable": true,
    "editable": true
   },
   "source": [
    "## Linear Regression ##"
   ]
  },
  {
   "cell_type": "code",
   "execution_count": null,
   "metadata": {
    "deletable": true,
    "editable": true
   },
   "outputs": [],
   "source": [
    "sel_patients = list(\n",
    "    set(sfa['patient'].values) &\n",
    "    {p for n, p in zip(np.isnan(mri_array).sum('variable'), mri_array['patient'].values)\n",
    "     if n == 0} &\n",
    "    {p for t, p in zip(clin['ihc_subtype'], clin['patient'].values)\n",
    "     if t in ['ER+/HER2-']})\n",
    "X = mri_array.reindex(patient=sel_patients).transpose('patient', 'variable').values\n",
    "y = sfa['factors'].reindex(patient=sel_patients).transpose('patient', 'factor').values\n",
    "y = (y - np.mean(y, 0, keepdims=True)) / np.std(y, 0, keepdims=True)\n",
    "\n",
    "display(Markdown(\"Number of samples: {}\".format(X.shape[0])))\n",
    "\n",
    "for factor_i in range(y.shape[1]):\n",
    "    loocv = sklearn.model_selection.LeaveOneOut()\n",
    "    y_pred = np.full(y.shape[0], np.nan)\n",
    "    for train_index, test_index in loocv.split(X):\n",
    "        m = PcaLin(10)\n",
    "        m.train(X[train_index, :], y[train_index, factor_i])\n",
    "        y_pred[test_index] = m.predict(X[test_index, :])\n",
    "    display(Markdown(\"##### Factor {} \".format(sfa['factor_name'][factor_i].item())))\n",
    "    display(mse_performance(y[:, factor_i], y_pred))\n",
    "    with plot.subplots(1, 1) as (fig, ax):\n",
    "        ax.plot(y[:, factor_i], y_pred, '.')  "
   ]
  },
  {
   "cell_type": "markdown",
   "metadata": {
    "deletable": true,
    "editable": true
   },
   "source": [
    "## Logistic Regression ##"
   ]
  },
  {
   "cell_type": "code",
   "execution_count": null,
   "metadata": {
    "deletable": true,
    "editable": true
   },
   "outputs": [],
   "source": [
    "sel_patients = list(\n",
    "    set(sfa['patient'].values) &\n",
    "    {p for n, p in zip(np.isnan(mri_array).sum('variable'), mri_array['patient'].values)\n",
    "     if n == 0} &\n",
    "    {p for t, p in zip(clin['ihc_subtype'], clin['patient'].values)\n",
    "     if t in ['ER+/HER2-']})\n",
    "X = mri_array.reindex(patient=sel_patients).transpose('patient', 'variable').values\n",
    "\n",
    "# Make factors binary\n",
    "y_real = sfa['factors'].reindex(patient=sel_patients).transpose('patient', 'factor').values\n",
    "y = np.zeros(y_real.shape, dtype=np.bool)\n",
    "for factor_i in range(y.shape[1]):\n",
    "    kmeans = sklearn.cluster.KMeans(2)\n",
    "    kmeans.fit(y_real[:, [factor_i]])\n",
    "    y[:, factor_i] = np.array(kmeans.labels_ == 1)\n",
    "\n",
    "display(Markdown(\"Number of samples: {}\".format(X.shape[0])))\n",
    "\n",
    "for factor_i in range(y.shape[1]):\n",
    "    loocv = sklearn.model_selection.LeaveOneOut()\n",
    "    y_pred = np.full(y.shape[0], np.nan)\n",
    "    for train_index, test_index in loocv.split(X):\n",
    "        m = PcaLog(10)\n",
    "        m.train(X[train_index, :], y[train_index, factor_i])\n",
    "        y_pred[test_index] = m.predict(X[test_index, :])\n",
    "    display(Markdown(\"##### Factor {} \".format(sfa['factor_name'][factor_i].item())))\n",
    "    display(bin_performance(y[:, factor_i], y_pred))\n",
    "    plot_roc(y[:, factor_i], y_pred)"
   ]
  },
  {
   "cell_type": "markdown",
   "metadata": {
    "deletable": true,
    "editable": true
   },
   "source": [
    "# Predict Factors from MRI features in TN / HER2+ #"
   ]
  },
  {
   "cell_type": "markdown",
   "metadata": {
    "deletable": true,
    "editable": true
   },
   "source": [
    "## Linear Regression ##"
   ]
  },
  {
   "cell_type": "code",
   "execution_count": null,
   "metadata": {
    "deletable": true,
    "editable": true
   },
   "outputs": [],
   "source": [
    "sel_patients = list(\n",
    "    set(sfa['patient'].values) &\n",
    "    {p for n, p in zip(np.isnan(mri_array).sum('variable'), mri_array['patient'].values)\n",
    "     if n == 0} &\n",
    "    {p for t, p in zip(clin['ihc_subtype'], clin['patient'].values)\n",
    "     if t in ['TN', 'HER2+']})\n",
    "X = mri_array.reindex(patient=sel_patients).transpose('patient', 'variable').values\n",
    "y = sfa['factors'].reindex(patient=sel_patients).transpose('patient', 'factor').values\n",
    "y = (y - np.mean(y, 0, keepdims=True)) / np.std(y, 0, keepdims=True)\n",
    "\n",
    "display(Markdown(\"Number of samples: {}\".format(X.shape[0])))\n",
    "\n",
    "for factor_i in range(y.shape[1]):\n",
    "    loocv = sklearn.model_selection.LeaveOneOut()\n",
    "    y_pred = np.full(y.shape[0], np.nan)\n",
    "    for train_index, test_index in loocv.split(X):\n",
    "        m = PcaLin(10)\n",
    "        m.train(X[train_index, :], y[train_index, factor_i])\n",
    "        y_pred[test_index] = m.predict(X[test_index, :])\n",
    "    display(Markdown(\"##### Factor {} \".format(sfa['factor_name'][factor_i].item())))\n",
    "    display(mse_performance(y[:, factor_i], y_pred))\n",
    "    with plot.subplots(1, 1) as (fig, ax):\n",
    "        ax.plot(y[:, factor_i], y_pred, '.')  "
   ]
  },
  {
   "cell_type": "markdown",
   "metadata": {
    "deletable": true,
    "editable": true
   },
   "source": [
    "## Logistic Regression ##"
   ]
  },
  {
   "cell_type": "code",
   "execution_count": null,
   "metadata": {
    "deletable": true,
    "editable": true
   },
   "outputs": [],
   "source": [
    "sel_patients = list(\n",
    "    set(sfa['patient'].values) &\n",
    "    {p for n, p in zip(np.isnan(mri_array).sum('variable'), mri_array['patient'].values)\n",
    "     if n == 0} &\n",
    "    {p for t, p in zip(clin['ihc_subtype'], clin['patient'].values)\n",
    "     if t in ['TN', 'HER2+']})\n",
    "X = mri_array.reindex(patient=sel_patients).transpose('patient', 'variable').values\n",
    "\n",
    "# Make factors binary\n",
    "y_real = sfa['factors'].reindex(patient=sel_patients).transpose('patient', 'factor').values\n",
    "y = np.zeros(y_real.shape, dtype=np.bool)\n",
    "for factor_i in range(y.shape[1]):\n",
    "    kmeans = sklearn.cluster.KMeans(2)\n",
    "    kmeans.fit(y_real[:, [factor_i]])\n",
    "    y[:, factor_i] = np.array(kmeans.labels_ == 1)\n",
    "\n",
    "display(Markdown(\"Number of samples: {}\".format(X.shape[0])))\n",
    "\n",
    "for factor_i in range(y.shape[1]):\n",
    "    loocv = sklearn.model_selection.LeaveOneOut()\n",
    "    y_pred = np.full(y.shape[0], np.nan)\n",
    "    for train_index, test_index in loocv.split(X):\n",
    "        m = PcaLog(10)\n",
    "        m.train(X[train_index, :], y[train_index, factor_i])\n",
    "        y_pred[test_index] = m.predict(X[test_index, :])\n",
    "    display(Markdown(\"##### Factor {} \".format(sfa['factor_name'][factor_i].item())))\n",
    "    display(bin_performance(y[:, factor_i], y_pred))\n",
    "    plot_roc(y[:, factor_i], y_pred)"
   ]
  },
  {
   "cell_type": "code",
   "execution_count": null,
   "metadata": {},
   "outputs": [],
   "source": []
  }
 ],
 "metadata": {
  "kernelspec": {
   "display_name": "Python 3",
   "language": "python",
   "name": "python3"
  },
  "language_info": {
   "codemirror_mode": {
    "name": "ipython",
    "version": 3
   },
   "file_extension": ".py",
   "mimetype": "text/x-python",
   "name": "python",
   "nbconvert_exporter": "python",
   "pygments_lexer": "ipython3",
   "version": "3.6.0"
  }
 },
 "nbformat": 4,
 "nbformat_minor": 1
}
