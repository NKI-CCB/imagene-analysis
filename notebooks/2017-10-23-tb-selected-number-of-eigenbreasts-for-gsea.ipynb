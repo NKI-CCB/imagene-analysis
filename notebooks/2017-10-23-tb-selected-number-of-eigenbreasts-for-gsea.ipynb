{
 "cells": [
  {
   "cell_type": "code",
   "execution_count": null,
   "metadata": {},
   "outputs": [],
   "source": [
    "from pathlib import Path"
   ]
  },
  {
   "cell_type": "code",
   "execution_count": null,
   "metadata": {},
   "outputs": [],
   "source": [
    "import numpy as np\n",
    "import pandas as pd"
   ]
  },
  {
   "cell_type": "code",
   "execution_count": null,
   "metadata": {},
   "outputs": [],
   "source": [
    "import plot"
   ]
  },
  {
   "cell_type": "code",
   "execution_count": null,
   "metadata": {},
   "outputs": [],
   "source": [
    "ev_dir = Path(\"../data/raw/eigenbreasts-ev/\")"
   ]
  },
  {
   "cell_type": "code",
   "execution_count": null,
   "metadata": {},
   "outputs": [],
   "source": [
    "def load_ds(pth):\n",
    "    ds = pd.read_table(pth, header=None, names=['explained_variance'])\n",
    "    ds.index = range(1, len(ds)+1)\n",
    "    ds.index.name = 'PC'\n",
    "    \n",
    "    ds['total_explained_variance'] = np.cumsum(ds['explained_variance'])\n",
    "    ds['delta_explained_variance'] = ds['explained_variance'][1:] - ds['explained_variance'][:-1].values\n",
    "    \n",
    "    return ds\n",
    "\n",
    "\n",
    "ev = list()\n",
    "for pth in ev_dir.glob(\"expl_var*.csv\"):\n",
    "    ev.append((pth.stem, load_ds(pth)))"
   ]
  },
  {
   "cell_type": "code",
   "execution_count": null,
   "metadata": {},
   "outputs": [],
   "source": [
    "def plot_ev(ds, name, n_shown=100):\n",
    "    with plot.subplots(3, 1, sharex=True, figsize=(7, 7)) as (fig, axs):\n",
    "        fig.suptitle(name)\n",
    "        plot.lines(ds['total_explained_variance'][0:n_shown], ax=axs[0])\n",
    "        plot.lines(ds['explained_variance'][0:n_shown], ax=axs[1])\n",
    "        plot.lines(ds['delta_explained_variance'][0:n_shown], ax=axs[2])\n",
    "        \n",
    "        \n",
    "for name, ds in ev:\n",
    "    plot_ev(ds, name)"
   ]
  },
  {
   "cell_type": "code",
   "execution_count": null,
   "metadata": {},
   "outputs": [],
   "source": [
    "tev_threshold = 0.8\n",
    "for name, ds in ev:\n",
    "    idx = np.where(ds['total_explained_variance'] > tev_threshold)[0][0]\n",
    "    print(f\"80% of variance explained in {name} at PC{idx+1}\")"
   ]
  },
  {
   "cell_type": "code",
   "execution_count": null,
   "metadata": {},
   "outputs": [],
   "source": []
  }
 ],
 "metadata": {
  "kernelspec": {
   "display_name": "Python 3",
   "language": "python",
   "name": "python3"
  },
  "language_info": {
   "codemirror_mode": {
    "name": "ipython",
    "version": 3
   },
   "file_extension": ".py",
   "mimetype": "text/x-python",
   "name": "python",
   "nbconvert_exporter": "python",
   "pygments_lexer": "ipython3",
   "version": "3.6.0"
  }
 },
 "nbformat": 4,
 "nbformat_minor": 2
}
