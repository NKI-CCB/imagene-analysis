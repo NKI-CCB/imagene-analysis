{
 "cells": [
  {
   "cell_type": "code",
   "execution_count": null,
   "metadata": {},
   "outputs": [],
   "source": [
    "from functools import reduce\n",
    "from operator import mul"
   ]
  },
  {
   "cell_type": "code",
   "execution_count": null,
   "metadata": {},
   "outputs": [],
   "source": [
    "import matplotlib.pyplot as plt\n",
    "import numpy as np\n",
    "import xarray  as xr"
   ]
  },
  {
   "cell_type": "code",
   "execution_count": null,
   "metadata": {},
   "outputs": [],
   "source": [
    "import plot"
   ]
  },
  {
   "cell_type": "markdown",
   "metadata": {},
   "source": [
    "## Load Data ##"
   ]
  },
  {
   "cell_type": "code",
   "execution_count": null,
   "metadata": {},
   "outputs": [],
   "source": [
    "gsea_cgp = xr.open_dataset(\"../analyses/gsea/mri-features-all-fa_c2.cgp_F.nc\").load()\n",
    "gsea_cgp['gene_set'] = np.array([s.decode() for s in gsea_cgp['gene_set'].values], dtype='object')\n",
    "gsea_cgp['mri_feature'] = np.array([int(f) for f in gsea_cgp['mri_feature'].values])"
   ]
  },
  {
   "cell_type": "code",
   "execution_count": null,
   "metadata": {},
   "outputs": [],
   "source": [
    "gsea_cp = xr.open_dataset(\"../analyses/gsea/mri-features-all-fa_c2.cp_T.nc\").load()\n",
    "gsea_cp['gene_set'] = np.array([s.decode() for s in gsea_cp['gene_set'].values], dtype='object')\n",
    "gsea_cp['mri_feature'] = np.array([int(f) for f in gsea_cp['mri_feature'].values])"
   ]
  },
  {
   "cell_type": "code",
   "execution_count": null,
   "metadata": {},
   "outputs": [],
   "source": [
    "gsea_cp_er = xr.open_dataset(\"../analyses/gsea/mri-features-er-fa_c2.cp_T.nc\").load()\n",
    "gsea_cp_er['gene_set'] = np.array([s.decode() for s in gsea_cp_er['gene_set'].values], dtype='object')\n",
    "gsea_cp_er['mri_feature'] = np.array([int(f) for f in gsea_cp_er['mri_feature'].values])"
   ]
  },
  {
   "cell_type": "markdown",
   "metadata": {},
   "source": [
    "## Plots ##"
   ]
  },
  {
   "cell_type": "code",
   "execution_count": null,
   "metadata": {},
   "outputs": [],
   "source": [
    "def sgn_square(x):\n",
    "    return np.sign(x) * x**2"
   ]
  },
  {
   "cell_type": "code",
   "execution_count": null,
   "metadata": {},
   "outputs": [],
   "source": [
    "gene_sets = ['EGUCHI_CELL_CYCLE_RB1_TARGETS', 'FINETTI_BREAST_CANCER_KINOME_RED', 'KALMA_E2F1_TARGETS',\n",
    "             'SMID_BREAST_CANCER_LUMINAL_A_DN', 'CHANG_CYCLING_GENES', 'ZHOU_CELL_CYCLE_GENES_IN_IR_RESPONSE_24HR']\n",
    "plot.heatmap(\n",
    "    gsea_cgp.sel(gene_set=gene_sets)['nes'].T,\n",
    ")\n",
    "plot.heatmap(\n",
    "    np.abs(gsea_cgp.sel(gene_set=gene_sets)['nes'].T),\n",
    ")\n",
    "plot.heatmap(\n",
    "    (gsea_cgp.sel(gene_set=gene_sets)['fdr'].T < 0.25).astype('f8'),\n",
    ")\n",
    "plot.heatmap(\n",
    "    -np.log10(gsea_cgp.sel(gene_set=gene_sets)['fdr']).T,\n",
    ")\n",
    "plot.heatmap(\n",
    "    -np.log10(gsea_cgp.sel(gene_set=gene_sets)['p']).T,\n",
    ")\n",
    "plot.heatmap(\n",
    "    sgn_square(gsea_cgp.sel(gene_set=gene_sets)['nes'].T),\n",
    ")\n",
    "plot.heatmap(\n",
    "    np.sign(gsea_cgp.sel(gene_set=gene_sets)['nes']).T * -np.log10(gsea_cgp.sel(gene_set=gene_sets)['fdr']).T,\n",
    ");"
   ]
  },
  {
   "cell_type": "code",
   "execution_count": null,
   "metadata": {},
   "outputs": [],
   "source": [
    "with plot.subplots(1, 1) as (fig, ax):\n",
    "    plot.hist(\n",
    "        gsea_cgp['nes'],\n",
    "        ax=ax,\n",
    "    )\n",
    "    for v in gsea_cgp.sel(gene_set=gene_sets)['nes'].max('mri_feature').values:\n",
    "        ax.axvline(v)"
   ]
  },
  {
   "cell_type": "code",
   "execution_count": null,
   "metadata": {},
   "outputs": [],
   "source": [
    "def wf_plot(vals, highlight, ylabel=\"\", yscale=\"linear\", ylim=None, xbaseline=None):\n",
    "    vals_order = np.argsort(vals.values)\n",
    "    vals = vals[vals_order]\n",
    "    \n",
    "    x = np.arange(len(vals)) / len(vals) * 100\n",
    "    \n",
    "    hl_mask = np.isin(vals['gene_set'], gene_sets)\n",
    "    x_hl = x[hl_mask]\n",
    "    vals_hl = vals[hl_mask]\n",
    "    \n",
    "    y_invert = False\n",
    "    if yscale == 'mlog10':\n",
    "        yscale = 'log'\n",
    "        y_invert = True\n",
    "    \n",
    "    if xbaseline is None:\n",
    "        if yscale == 'log':\n",
    "            xbaseline = np.max(x)\n",
    "        else:\n",
    "            xbaseline = 0\n",
    "    \n",
    "    with plot.subplots(1, 1) as (fig, ax):\n",
    "        ax.set_yscale(yscale)\n",
    "        if y_invert:\n",
    "            ax.invert_yaxis()\n",
    "        \n",
    "        ax.fill_between(x, xbaseline, vals, color='#777777')\n",
    "        #ax.vlines(x, 0, vals, colors='#777777')\n",
    "        ax.vlines(x_hl, xbaseline, vals_hl, colors='#ff4444')\n",
    "        \n",
    "        if ylim is not None:\n",
    "            ax.set_ylim(ylim)\n",
    "        \n",
    "        ax.set_xlabel(\"Rank (%)\")\n",
    "        ax.set_ylabel(ylabel)\n",
    "\n",
    "wf_plot(gsea_cgp['nes'][0, :], gene_sets, 'NES')\n",
    "mesa_mid = int(gsea_cgp['max_es_at'].max() / 2)\n",
    "wf_plot(gsea_cgp['max_es_at'][0, :], gene_sets, 'Max. ES at', xbaseline=mesa_mid)\n",
    "wf_plot(gsea_cgp['le_prop'][0, :]*100, gene_sets, 'Leading Edge (%)')\n",
    "wf_plot(gsea_cgp['p'][0, :], gene_sets, 'p', yscale='mlog10', ylim=[1, 0])"
   ]
  }
 ],
 "metadata": {
  "kernelspec": {
   "display_name": "Python 3",
   "language": "python",
   "name": "python3"
  },
  "language_info": {
   "codemirror_mode": {
    "name": "ipython",
    "version": 3
   },
   "file_extension": ".py",
   "mimetype": "text/x-python",
   "name": "python",
   "nbconvert_exporter": "python",
   "pygments_lexer": "ipython3",
   "version": "3.6.0"
  }
 },
 "nbformat": 4,
 "nbformat_minor": 2
}
