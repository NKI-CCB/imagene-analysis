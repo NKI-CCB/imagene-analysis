{
 "cells": [
  {
   "cell_type": "code",
   "execution_count": null,
   "metadata": {},
   "outputs": [],
   "source": [
    "from IPython.display import display\n",
    "import numpy as np\n",
    "import pandas as pd\n",
    "import scipy.stats\n",
    "import seaborn\n",
    "import xarray as xr"
   ]
  },
  {
   "cell_type": "code",
   "execution_count": null,
   "metadata": {},
   "outputs": [],
   "source": [
    "import plot\n",
    "import util"
   ]
  },
  {
   "cell_type": "markdown",
   "metadata": {},
   "source": [
    "## Load Data ##"
   ]
  },
  {
   "cell_type": "code",
   "execution_count": null,
   "metadata": {},
   "outputs": [],
   "source": [
    "sfa = xr.open_dataset(\"../models/sfa/sfa.nc\").load()\n",
    "mri_features = xr.open_dataset(\"../data/processed/mri-features.nc\").load()\n",
    "assert all(mri_features['case'] == sfa['case'])\n",
    "mri_factors = xr.open_dataset(\"../data/processed/mri-features-fa.nc\").load()\n",
    "assert all(mri_factors['case'] == sfa['case'])"
   ]
  },
  {
   "cell_type": "code",
   "execution_count": null,
   "metadata": {},
   "outputs": [],
   "source": [
    "sfa = sfa.rename({'factor': 'gexp_factor'})\n",
    "sfa['gexp_factor'] = [\"GF{}\".format(i+1) for i in range(len(sfa['gexp_factor']))]"
   ]
  },
  {
   "cell_type": "code",
   "execution_count": null,
   "metadata": {},
   "outputs": [],
   "source": [
    "mri_factors = mri_factors.rename({'factor': 'mri_factor'})\n",
    "mri_factors['mri_factor'] = [\"IF{}\".format(i+1) for i in range(len(mri_factors['mri_factor']))]"
   ]
  },
  {
   "cell_type": "markdown",
   "metadata": {},
   "source": [
    "## Correlation Factors—MRI features ##"
   ]
  },
  {
   "cell_type": "markdown",
   "metadata": {},
   "source": [
    "Compute correlation between all MRI features (except for patient number, Comment and Multifocal) and SFA factors (`factor_feature_cor`). We also compute the nominal p value (`factor_feature_cor_nom_p`) and Bonferroni adjusted p-value (`factor_feature_cor_p`)."
   ]
  },
  {
   "cell_type": "code",
   "execution_count": null,
   "metadata": {},
   "outputs": [],
   "source": [
    "numeric_mri_features = list(set(mri_features.keys()) - {'case', 'Comment', 'MultiFocal'})\n",
    "mri_features_da = mri_features[numeric_mri_features].to_array('cad_feature')"
   ]
  },
  {
   "cell_type": "code",
   "execution_count": null,
   "metadata": {},
   "outputs": [],
   "source": [
    "fm_cor = util.cor(mri_features_da, sfa['factors'], 'case')\n",
    "fm_cor['p'] = np.fmin(1, fm_cor['nominal_p'] * fm_cor['nominal_p'].size)"
   ]
  },
  {
   "cell_type": "markdown",
   "metadata": {},
   "source": [
    "Heatmap of correlations. All of them are very low."
   ]
  },
  {
   "cell_type": "code",
   "execution_count": null,
   "metadata": {},
   "outputs": [],
   "source": [
    "plot.heatmap(fm_cor['correlation'], cmap='coolwarm', row_dendrogram=True)"
   ]
  },
  {
   "cell_type": "markdown",
   "metadata": {},
   "source": [
    "Heatmap of correlation with nominal p-values < 0.05. This is without multiple testing correction."
   ]
  },
  {
   "cell_type": "code",
   "execution_count": null,
   "metadata": {},
   "outputs": [],
   "source": [
    "plot.heatmap(fm_cor['correlation'], mask=fm_cor['nominal_p'] > 0.05, cmap='coolwarm', row_dendrogram=True)"
   ]
  },
  {
   "cell_type": "markdown",
   "metadata": {},
   "source": [
    "None of the correlation are significant after multiple testing correction."
   ]
  },
  {
   "cell_type": "code",
   "execution_count": null,
   "metadata": {},
   "outputs": [],
   "source": [
    "np.min(fm_cor['p'].values)"
   ]
  },
  {
   "cell_type": "code",
   "execution_count": null,
   "metadata": {},
   "outputs": [],
   "source": [
    "fm_rcor = util.cor(mri_features_da, sfa['factors'], 'case', method='spearman')\n",
    "fm_rcor['p'] = np.fmin(1, fm_rcor['nominal_p'] * fm_rcor['nominal_p'].size)"
   ]
  },
  {
   "cell_type": "markdown",
   "metadata": {},
   "source": [
    "Heatmap of correlations. All of them are very low."
   ]
  },
  {
   "cell_type": "code",
   "execution_count": null,
   "metadata": {},
   "outputs": [],
   "source": [
    "plot.heatmap(fm_rcor['correlation'], cmap='coolwarm', row_dendrogram=True)"
   ]
  },
  {
   "cell_type": "markdown",
   "metadata": {},
   "source": [
    "Heatmap of correlation with nominal p-values < 0.05. This is without multiple testing correction."
   ]
  },
  {
   "cell_type": "code",
   "execution_count": null,
   "metadata": {},
   "outputs": [],
   "source": [
    "plot.heatmap(fm_rcor['correlation'], mask=fm_rcor['nominal_p'] > 0.05, cmap='coolwarm', row_dendrogram=True)"
   ]
  },
  {
   "cell_type": "markdown",
   "metadata": {},
   "source": [
    "None of the correlation are significant after multiple testing correction."
   ]
  },
  {
   "cell_type": "code",
   "execution_count": null,
   "metadata": {},
   "outputs": [],
   "source": [
    "np.min(fm_rcor['p'].values)"
   ]
  },
  {
   "cell_type": "markdown",
   "metadata": {},
   "source": [
    "## Factor-Factor Correlation ##"
   ]
  },
  {
   "cell_type": "code",
   "execution_count": null,
   "metadata": {},
   "outputs": [],
   "source": [
    "sfa_da = sfa['factors'].reindex_like(mri_factors['factors'])"
   ]
  },
  {
   "cell_type": "code",
   "execution_count": null,
   "metadata": {},
   "outputs": [],
   "source": [
    "ff_cor = util.cor(mri_factors['factors'], sfa_da, 'case')\n",
    "ff_cor['p'] = np.fmin(1, ff_cor['nominal_p'] * ff_cor['nominal_p'].size)"
   ]
  },
  {
   "cell_type": "markdown",
   "metadata": {},
   "source": [
    "Heatmap of correlations. All of them are low."
   ]
  },
  {
   "cell_type": "code",
   "execution_count": null,
   "metadata": {},
   "outputs": [],
   "source": [
    "plot.heatmap(ff_cor['correlation'], cmap='coolwarm', row_dendrogram=True, col_dendrogram=True)"
   ]
  },
  {
   "cell_type": "markdown",
   "metadata": {},
   "source": [
    "Heatmap of correlation with p-values < 0.05. This is without multiple testing correction."
   ]
  },
  {
   "cell_type": "code",
   "execution_count": null,
   "metadata": {},
   "outputs": [],
   "source": [
    "plot.heatmap(ff_cor['correlation'], mask=ff_cor['p'] > 0.05, cmap='coolwarm', row_dendrogram=True, col_dendrogram=True)"
   ]
  },
  {
   "cell_type": "code",
   "execution_count": null,
   "metadata": {},
   "outputs": [],
   "source": [
    "ff_rcor = util.cor(mri_factors['factors'], sfa_da, 'case', method='spearman')\n",
    "ff_rcor['p'] = np.minimum(ff_rcor['nominal_p'] * len(ff_rcor['nominal_p']), 1.0)"
   ]
  },
  {
   "cell_type": "markdown",
   "metadata": {},
   "source": [
    "Heatmap of correlations. All of them are on the low side."
   ]
  },
  {
   "cell_type": "code",
   "execution_count": null,
   "metadata": {},
   "outputs": [],
   "source": [
    "plot.heatmap(ff_rcor['correlation'], cmap='coolwarm', row_dendrogram=True, col_dendrogram=True)"
   ]
  },
  {
   "cell_type": "markdown",
   "metadata": {},
   "source": [
    "Heatmap of correlation with p-values < 0.05."
   ]
  },
  {
   "cell_type": "code",
   "execution_count": null,
   "metadata": {},
   "outputs": [],
   "source": [
    "plot.heatmap(ff_rcor['correlation'], mask=ff_rcor['p'] > 0.05, cmap='coolwarm', row_dendrogram=True, col_dendrogram=True)"
   ]
  },
  {
   "cell_type": "code",
   "execution_count": null,
   "metadata": {},
   "outputs": [],
   "source": [
    "plot.scatter(sfa_da.sel(gexp_factor='GF8'), mri_factors['factors'].sel(mri_factor='IF1'))"
   ]
  },
  {
   "cell_type": "code",
   "execution_count": null,
   "metadata": {},
   "outputs": [],
   "source": [
    "with plot.subplots() as (fig, ax):\n",
    "    seaborn.kdeplot(sfa_da.sel(gexp_factor='GF8'), mri_factors['factors'].sel(mri_factor='IF1'), ax=ax)"
   ]
  },
  {
   "cell_type": "code",
   "execution_count": null,
   "metadata": {},
   "outputs": [],
   "source": [
    "plot.scatter(sfa_da.sel(gexp_factor='GF1'), mri_factors['factors'].sel(mri_factor='IF7'))\n",
    "with plot.subplots() as (fig, ax):\n",
    "    seaborn.kdeplot(sfa_da.sel(gexp_factor='GF1'), mri_factors['factors'].sel(mri_factor='IF7'),\n",
    "                    ax=ax, shade=True, gridsize=250)"
   ]
  },
  {
   "cell_type": "code",
   "execution_count": null,
   "metadata": {},
   "outputs": [],
   "source": [
    "plot.scatter(sfa_da.sel(gexp_factor='GF1'), mri_factors['factors'].sel(mri_factor='IF1'))\n",
    "with plot.subplots() as (fig, ax):\n",
    "    seaborn.kdeplot(sfa_da.sel(gexp_factor='GF1'), mri_factors['factors'].sel(mri_factor='IF1'),\n",
    "                    ax=ax, shade=True, gridsize=250)"
   ]
  },
  {
   "cell_type": "code",
   "execution_count": null,
   "metadata": {},
   "outputs": [],
   "source": []
  }
 ],
 "metadata": {
  "kernelspec": {
   "display_name": "Python 3",
   "language": "python",
   "name": "python3"
  },
  "language_info": {
   "codemirror_mode": {
    "name": "ipython",
    "version": 3
   },
   "file_extension": ".py",
   "mimetype": "text/x-python",
   "name": "python",
   "nbconvert_exporter": "python",
   "pygments_lexer": "ipython3",
   "version": "3.6.0"
  }
 },
 "nbformat": 4,
 "nbformat_minor": 1
}
