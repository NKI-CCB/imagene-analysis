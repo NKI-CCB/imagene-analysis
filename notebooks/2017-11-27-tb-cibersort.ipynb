{
 "cells": [
  {
   "cell_type": "code",
   "execution_count": null,
   "metadata": {},
   "outputs": [],
   "source": []
  },
  {
   "cell_type": "code",
   "execution_count": null,
   "metadata": {},
   "outputs": [],
   "source": [
    "import numpy as np\n",
    "import pandas as pd\n",
    "import xarray as xr"
   ]
  },
  {
   "cell_type": "code",
   "execution_count": null,
   "metadata": {},
   "outputs": [],
   "source": [
    "import plot\n",
    "import util"
   ]
  },
  {
   "cell_type": "markdown",
   "metadata": {},
   "source": [
    "### Load Data ###"
   ]
  },
  {
   "cell_type": "code",
   "execution_count": null,
   "metadata": {},
   "outputs": [],
   "source": [
    "mri_features = xr.open_dataset(\"../data/processed/mri-features-all.nc\").load()\n",
    "mri_factors = xr.open_dataset(\"../data/processed/mri-features-all-fa.nc\").load()"
   ]
  },
  {
   "cell_type": "code",
   "execution_count": null,
   "metadata": {},
   "outputs": [],
   "source": [
    "def read_cibersort_results(fn):\n",
    "    df = pd.read_table(fn)\n",
    "    df = df.rename(columns={\n",
    "        'Input Sample': 'case',\n",
    "    })\n",
    "    df = df.set_index('case')\n",
    "    df_cf = df.copy()\n",
    "    del df_cf['P-value']\n",
    "    del df_cf['Pearson Correlation']\n",
    "    del df_cf['RMSE']\n",
    "    da_cf = xr.DataArray(df_cf, dims=['case', 'cell_type'])\n",
    "    ds = xr.Dataset({\n",
    "        'cell_fraction': da_cf,\n",
    "        'p': df['P-value'],\n",
    "        'correlation': df['Pearson Correlation'],\n",
    "        'rmse': df['RMSE'],\n",
    "    })\n",
    "    \n",
    "    return ds\n",
    "    \n",
    "cibersort = read_cibersort_results(\"../models/cibersort/CIBERSORT.Output.txt\")\n",
    "cibersort = cibersort.reindex_like(mri_features)"
   ]
  },
  {
   "cell_type": "code",
   "execution_count": null,
   "metadata": {},
   "outputs": [],
   "source": [
    "numeric_mri_features = list(set(mri_features.keys()) - {'case', 'Comment', 'MultiFocal'})\n",
    "mri_features_da = mri_features[numeric_mri_features].to_array('cad_feature')"
   ]
  },
  {
   "cell_type": "code",
   "execution_count": null,
   "metadata": {},
   "outputs": [],
   "source": [
    "cf_m_cor = util.cor(cibersort['cell_fraction'], mri_features_da, 'case')\n",
    "cf_m_cor['p'] = np.fmin(1, cf_m_cor['nominal_p'] * cf_m_cor['nominal_p'].size)"
   ]
  },
  {
   "cell_type": "code",
   "execution_count": null,
   "metadata": {},
   "outputs": [],
   "source": [
    "plot.heatmap(cf_m_cor['correlation'], cmap='coolwarm', row_dendrogram=True)"
   ]
  },
  {
   "cell_type": "code",
   "execution_count": null,
   "metadata": {},
   "outputs": [],
   "source": [
    "plot.heatmap(cf_m_cor['correlation'], mask=cf_m_cor['p'] > 0.05, cmap='coolwarm', row_dendrogram=True)"
   ]
  },
  {
   "cell_type": "code",
   "execution_count": null,
   "metadata": {},
   "outputs": [],
   "source": [
    "list(cf_m_cor['cad_feature'][(cf_m_cor['p'] < 0.05).sum('cell_type') > 0].values)"
   ]
  },
  {
   "cell_type": "code",
   "execution_count": null,
   "metadata": {},
   "outputs": [],
   "source": [
    "cf_f_cor = util.cor(cibersort['cell_fraction'].reindex_like(mri_factors), mri_factors['factors'], 'case')\n",
    "cf_f_cor['p'] = np.fmin(1, cf_f_cor['nominal_p'] * cf_f_cor['nominal_p'].size)"
   ]
  },
  {
   "cell_type": "code",
   "execution_count": null,
   "metadata": {},
   "outputs": [],
   "source": [
    "plot.heatmap(cf_f_cor['correlation'], cmap='coolwarm', row_dendrogram=True)"
   ]
  },
  {
   "cell_type": "code",
   "execution_count": null,
   "metadata": {},
   "outputs": [],
   "source": [
    "plot.heatmap(cf_f_cor['correlation'], mask=cf_f_cor['p'] > 0.05, cmap='coolwarm', row_dendrogram=True)"
   ]
  },
  {
   "cell_type": "code",
   "execution_count": null,
   "metadata": {},
   "outputs": [],
   "source": []
  },
  {
   "cell_type": "code",
   "execution_count": null,
   "metadata": {},
   "outputs": [],
   "source": []
  }
 ],
 "metadata": {
  "kernelspec": {
   "display_name": "Python 3",
   "language": "python",
   "name": "python3"
  },
  "language_info": {
   "codemirror_mode": {
    "name": "ipython",
    "version": 3
   },
   "file_extension": ".py",
   "mimetype": "text/x-python",
   "name": "python",
   "nbconvert_exporter": "python",
   "pygments_lexer": "ipython3",
   "version": "3.6.0"
  }
 },
 "nbformat": 4,
 "nbformat_minor": 2
}
